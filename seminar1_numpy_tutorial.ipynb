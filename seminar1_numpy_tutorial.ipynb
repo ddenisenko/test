{
  "nbformat": 4,
  "nbformat_minor": 0,
  "metadata": {
    "colab": {
      "name": "seminar1_numpy_tutorial.ipynb",
      "version": "0.3.2",
      "provenance": [],
      "include_colab_link": true
    },
    "kernelspec": {
      "display_name": "Python 3",
      "language": "python",
      "name": "python3"
    }
  },
  "cells": [
    {
      "cell_type": "markdown",
      "metadata": {
        "id": "view-in-github",
        "colab_type": "text"
      },
      "source": [
        "<a href=\"https://colab.research.google.com/github/ddenisenko/test/blob/master/seminar1_numpy_tutorial.ipynb\" target=\"_parent\"><img src=\"https://colab.research.google.com/assets/colab-badge.svg\" alt=\"Open In Colab\"/></a>"
      ]
    },
    {
      "metadata": {
        "id": "xnwI6riKvPq9",
        "colab_type": "text"
      },
      "cell_type": "markdown",
      "source": [
        "## Краткий туториал по NumPy\n",
        "\n",
        "Данное руководство ни в коем случае не предентует на полноту изложения\n",
        "\n",
        "[NumPy](https://docs.scipy.org/doc/numpy/user/index.html)\n",
        "\n",
        "[Quickstart guide](https://docs.scipy.org/doc/numpy/user/quickstart.html)"
      ]
    },
    {
      "metadata": {
        "id": "3T6tThCavPq_",
        "colab_type": "text"
      },
      "cell_type": "markdown",
      "source": [
        "Библеотека NumPy предоставляет следующие **возможности**: \n",
        "* работать с многомерными массивами (включая матрицы)\n",
        "* производить быстрое вычисление математических функций на многомерных массивах\n",
        "\n",
        "Ядром пакета NumPy является объект [ndarray](https://docs.scipy.org/doc/numpy/reference/generated/numpy.ndarray.html)\n",
        "\n",
        "**Важные отличия** между NumPy arrays и Python sequences: \n",
        "* NumPy array имеет фиксированную длину, которая определяется в момент его создания (в отличие от Python lists, которые могут расти динамически)\n",
        "* Элементы в NumPy array должны быть одного типа\n",
        "* Можно выполнять операции непосредственно над NumPy arrays\n",
        "\n",
        "**Сильные стороны** NumPy: \n",
        "* Vectorization \n",
        "* Broadcasting\n",
        "\n",
        "**Мотивирующий пример**\n",
        "![Imgur](https://i.imgur.com/z4GzOX6.png)"
      ]
    },
    {
      "metadata": {
        "id": "VXC3wngOvPrA",
        "colab_type": "code",
        "colab": {}
      },
      "cell_type": "code",
      "source": [
        "import numpy as np"
      ],
      "execution_count": 0,
      "outputs": []
    },
    {
      "metadata": {
        "id": "lpZwBkcOvPrE",
        "colab_type": "text"
      },
      "cell_type": "markdown",
      "source": [
        "### Способы создания Numpy arrays\n",
        "* Конвертация из Python structures\n",
        "* Генерация с помощью встроенных функций\n",
        "* Чтение с диска\n",
        "\n",
        "### Конвертация из Python structures"
      ]
    },
    {
      "metadata": {
        "id": "HRPGqrd7vPrF",
        "colab_type": "code",
        "colab": {},
        "outputId": "abbe1663-6694-41bd-85ed-28a6dad7e68f"
      },
      "cell_type": "code",
      "source": [
        "np.array([1, 2, 3, 4, 5])"
      ],
      "execution_count": 0,
      "outputs": [
        {
          "output_type": "execute_result",
          "data": {
            "text/plain": [
              "array([1, 2, 3, 4, 5])"
            ]
          },
          "metadata": {
            "tags": []
          },
          "execution_count": 2
        }
      ]
    },
    {
      "metadata": {
        "id": "nA49ZjWzvPrK",
        "colab_type": "text"
      },
      "cell_type": "markdown",
      "source": [
        "При конвертации можно задавать тип данных с помощью аргумента [dtype](https://docs.scipy.org/doc/numpy/reference/generated/numpy.dtype.html): "
      ]
    },
    {
      "metadata": {
        "id": "mT77Ex6PvPrL",
        "colab_type": "code",
        "colab": {},
        "outputId": "376a6f87-d5c1-4d7c-a10d-49cd51e3d2c0"
      },
      "cell_type": "code",
      "source": [
        "np.array([1, 2, 3, 4, 5], dtype=np.float32)"
      ],
      "execution_count": 0,
      "outputs": [
        {
          "output_type": "execute_result",
          "data": {
            "text/plain": [
              "array([1., 2., 3., 4., 5.], dtype=float32)"
            ]
          },
          "metadata": {
            "tags": []
          },
          "execution_count": 3
        }
      ]
    },
    {
      "metadata": {
        "id": "PMgFC9zCvPrP",
        "colab_type": "text"
      },
      "cell_type": "markdown",
      "source": [
        "Аналогичное преобразование:"
      ]
    },
    {
      "metadata": {
        "id": "HH2vlZVxvPrQ",
        "colab_type": "code",
        "colab": {},
        "outputId": "56bf1d52-108a-40c0-eb0e-5b067d055b53"
      },
      "cell_type": "code",
      "source": [
        "np.float32([1, 2, 3, 4, 5])"
      ],
      "execution_count": 0,
      "outputs": [
        {
          "output_type": "execute_result",
          "data": {
            "text/plain": [
              "array([1., 2., 3., 4., 5.], dtype=float32)"
            ]
          },
          "metadata": {
            "tags": []
          },
          "execution_count": 4
        }
      ]
    },
    {
      "metadata": {
        "id": "cuNyevBNvPrU",
        "colab_type": "text"
      },
      "cell_type": "markdown",
      "source": [
        "**Но**: элементы NumPy array должны быть одного типа"
      ]
    },
    {
      "metadata": {
        "id": "Sdxy-szuvPrV",
        "colab_type": "code",
        "colab": {},
        "outputId": "9ac4107d-504d-4698-89e8-5791cf52df36"
      },
      "cell_type": "code",
      "source": [
        "a = [1, 'a', 1.2, []]\n",
        "np.array(a)"
      ],
      "execution_count": 0,
      "outputs": [
        {
          "output_type": "error",
          "ename": "ValueError",
          "evalue": "setting an array element with a sequence",
          "traceback": [
            "\u001b[1;31m---------------------------------------------------------------------------\u001b[0m",
            "\u001b[1;31mValueError\u001b[0m                                Traceback (most recent call last)",
            "\u001b[1;32m<ipython-input-5-e7c469eeeaa8>\u001b[0m in \u001b[0;36m<module>\u001b[1;34m()\u001b[0m\n\u001b[0;32m      1\u001b[0m \u001b[0ma\u001b[0m \u001b[1;33m=\u001b[0m \u001b[1;33m[\u001b[0m\u001b[1;36m1\u001b[0m\u001b[1;33m,\u001b[0m \u001b[1;34m'a'\u001b[0m\u001b[1;33m,\u001b[0m \u001b[1;36m1.2\u001b[0m\u001b[1;33m,\u001b[0m \u001b[1;33m[\u001b[0m\u001b[1;33m]\u001b[0m\u001b[1;33m]\u001b[0m\u001b[1;33m\u001b[0m\u001b[0m\n\u001b[1;32m----> 2\u001b[1;33m \u001b[0mnp\u001b[0m\u001b[1;33m.\u001b[0m\u001b[0marray\u001b[0m\u001b[1;33m(\u001b[0m\u001b[0ma\u001b[0m\u001b[1;33m)\u001b[0m\u001b[1;33m\u001b[0m\u001b[0m\n\u001b[0m",
            "\u001b[1;31mValueError\u001b[0m: setting an array element with a sequence"
          ]
        }
      ]
    },
    {
      "metadata": {
        "id": "BEaNi0MHvPrY",
        "colab_type": "code",
        "colab": {},
        "outputId": "77f51a5c-0ac6-444b-a603-348b65b18de7"
      },
      "cell_type": "code",
      "source": [
        "np.array(a, dtype=object)"
      ],
      "execution_count": 0,
      "outputs": [
        {
          "output_type": "execute_result",
          "data": {
            "text/plain": [
              "array([1, 'a', 1.2, list([])], dtype=object)"
            ]
          },
          "metadata": {
            "tags": []
          },
          "execution_count": 6
        }
      ]
    },
    {
      "metadata": {
        "id": "5QymIYQwvPrc",
        "colab_type": "text"
      },
      "cell_type": "markdown",
      "source": [
        "### Генерация Numpy arrays"
      ]
    },
    {
      "metadata": {
        "id": "-vS6_9gcvPrd",
        "colab_type": "text"
      },
      "cell_type": "markdown",
      "source": [
        "* [arange](https://docs.scipy.org/doc/numpy/reference/generated/numpy.arange.html) — аналог range из Python, которому можно передать нецелочисленный шаг\n",
        "* [linspace](https://docs.scipy.org/doc/numpy/reference/generated/numpy.linspace.html) — способ равномерно разбить отрезок на n-1 интервал\n",
        "* [logspace](https://docs.scipy.org/doc/numpy/reference/generated/numpy.logspace.html) — способ разбить отрезок по логарифмической шкале\n",
        "* [zeros](https://docs.scipy.org/doc/numpy/reference/generated/numpy.zeros.html) — создаёт массив заполненный нулями заданной размерности\n",
        "* [ones](https://docs.scipy.org/doc/numpy/reference/generated/numpy.ones.html) — создаёт массив заполненный единицами заданной размерности\n",
        "* [empty](https://docs.scipy.org/doc/numpy/reference/generated/numpy.empty.html) — создаёт массив неинициализированный никаким значением заданной размерности"
      ]
    },
    {
      "metadata": {
        "id": "t7-NdYMfvPre",
        "colab_type": "code",
        "colab": {},
        "outputId": "a5291592-57ea-4fc2-f75e-021e65d6e590"
      },
      "cell_type": "code",
      "source": [
        "np.arange(0, 5, 0.5)"
      ],
      "execution_count": 0,
      "outputs": [
        {
          "output_type": "execute_result",
          "data": {
            "text/plain": [
              "array([0. , 0.5, 1. , 1.5, 2. , 2.5, 3. , 3.5, 4. , 4.5])"
            ]
          },
          "metadata": {
            "tags": []
          },
          "execution_count": 7
        }
      ]
    },
    {
      "metadata": {
        "id": "IgcUC1JPvPrl",
        "colab_type": "code",
        "colab": {},
        "outputId": "490fe5f1-d6e0-4bbb-dfa1-68f95a0dde7c"
      },
      "cell_type": "code",
      "source": [
        "np.linspace(0, 5, 11)"
      ],
      "execution_count": 0,
      "outputs": [
        {
          "output_type": "execute_result",
          "data": {
            "text/plain": [
              "array([0. , 0.5, 1. , 1.5, 2. , 2.5, 3. , 3.5, 4. , 4.5, 5. ])"
            ]
          },
          "metadata": {
            "tags": []
          },
          "execution_count": 8
        }
      ]
    },
    {
      "metadata": {
        "id": "5-NDRPVcvPrp",
        "colab_type": "code",
        "colab": {},
        "outputId": "627af88d-8ac4-4519-ffac-f4c6cf1dd58c"
      },
      "cell_type": "code",
      "source": [
        "np.logspace(0, 9, 10, base=2)"
      ],
      "execution_count": 0,
      "outputs": [
        {
          "output_type": "execute_result",
          "data": {
            "text/plain": [
              "array([  1.,   2.,   4.,   8.,  16.,  32.,  64., 128., 256., 512.])"
            ]
          },
          "metadata": {
            "tags": []
          },
          "execution_count": 9
        }
      ]
    },
    {
      "metadata": {
        "id": "z6tzYI6hvPru",
        "colab_type": "code",
        "colab": {},
        "outputId": "fd8f7364-607d-4865-8a5d-62d77dd6b73f"
      },
      "cell_type": "code",
      "source": [
        "np.zeros((2, 2))"
      ],
      "execution_count": 0,
      "outputs": [
        {
          "output_type": "execute_result",
          "data": {
            "text/plain": [
              "array([[0., 0.],\n",
              "       [0., 0.]])"
            ]
          },
          "metadata": {
            "tags": []
          },
          "execution_count": 10
        }
      ]
    },
    {
      "metadata": {
        "id": "vF60K_hUvPrz",
        "colab_type": "code",
        "colab": {},
        "outputId": "101db844-1107-4475-bea9-371e6fde11fd"
      },
      "cell_type": "code",
      "source": [
        "np.ones((2, 2))"
      ],
      "execution_count": 0,
      "outputs": [
        {
          "output_type": "execute_result",
          "data": {
            "text/plain": [
              "array([[1., 1.],\n",
              "       [1., 1.]])"
            ]
          },
          "metadata": {
            "tags": []
          },
          "execution_count": 11
        }
      ]
    },
    {
      "metadata": {
        "id": "9YUez1zjvPr4",
        "colab_type": "code",
        "colab": {},
        "outputId": "49fcb7be-c4c6-489f-e725-51f1200847d9"
      },
      "cell_type": "code",
      "source": [
        "np.empty((2, 2))"
      ],
      "execution_count": 0,
      "outputs": [
        {
          "output_type": "execute_result",
          "data": {
            "text/plain": [
              "array([[1., 1.],\n",
              "       [1., 1.]])"
            ]
          },
          "metadata": {
            "tags": []
          },
          "execution_count": 12
        }
      ]
    },
    {
      "metadata": {
        "id": "na9EywjpvPr-",
        "colab_type": "text"
      },
      "cell_type": "markdown",
      "source": [
        "Pазмеры массива хранятся в поле **shape**, а количество размерностей - в **ndim**"
      ]
    },
    {
      "metadata": {
        "scrolled": true,
        "id": "4DfOmhgxvPr_",
        "colab_type": "code",
        "colab": {},
        "outputId": "29005638-3bce-43cd-bae6-644bd1569bcf"
      },
      "cell_type": "code",
      "source": [
        "array = np.ones((2, 3))\n",
        "print('Размерность массива - {}, количество размерностей - {}'.format(array.shape, array.ndim))"
      ],
      "execution_count": 0,
      "outputs": [
        {
          "output_type": "stream",
          "text": [
            "Размерность массива - (2, 3), количество размерностей - 2\n"
          ],
          "name": "stdout"
        }
      ]
    },
    {
      "metadata": {
        "id": "12hhIT7gvPsD",
        "colab_type": "text"
      },
      "cell_type": "markdown",
      "source": [
        "Метод [reshape](https://docs.scipy.org/doc/numpy/reference/generated/numpy.reshape.html) позволяет преобразовать размеры массива без изменения исходных данных\n",
        "\n",
        "`reshape` возвращает новое view массива, если возможно. Если нет, то возвращается копия"
      ]
    },
    {
      "metadata": {
        "id": "4shGkwbnvPsE",
        "colab_type": "code",
        "colab": {},
        "outputId": "3c0708bb-3912-4507-8cc4-24d9e849467f"
      },
      "cell_type": "code",
      "source": [
        "array = np.arange(0, 6, 0.5)\n",
        "array = array.reshape((2, 6))\n",
        "array"
      ],
      "execution_count": 0,
      "outputs": [
        {
          "output_type": "execute_result",
          "data": {
            "text/plain": [
              "array([[0. , 0.5, 1. , 1.5, 2. , 2.5],\n",
              "       [3. , 3.5, 4. , 4.5, 5. , 5.5]])"
            ]
          },
          "metadata": {
            "tags": []
          },
          "execution_count": 14
        }
      ]
    },
    {
      "metadata": {
        "id": "F9juLbHuvPsI",
        "colab_type": "text"
      },
      "cell_type": "markdown",
      "source": [
        "Если хочется, чтобы возникала ошибка при копировании, стоит присваивать новое значение атрибута `shape`, а не пользоваться функцией `reshape`"
      ]
    },
    {
      "metadata": {
        "id": "HCKDlgBlvPsJ",
        "colab_type": "code",
        "colab": {},
        "outputId": "5a5698ed-6a97-4e30-8441-07e6c7c1877a"
      },
      "cell_type": "code",
      "source": [
        "a = np.zeros((10, 2))\n",
        "# A transpose makes the array non-contiguous\n",
        "b = a.T\n",
        "# Taking a view makes it possible to modify the shape without modifying\n",
        "# the initial object.\n",
        "c = b.view()\n",
        "c.shape = (20)"
      ],
      "execution_count": 0,
      "outputs": [
        {
          "output_type": "error",
          "ename": "AttributeError",
          "evalue": "incompatible shape for a non-contiguous array",
          "traceback": [
            "\u001b[1;31m---------------------------------------------------------------------------\u001b[0m",
            "\u001b[1;31mAttributeError\u001b[0m                            Traceback (most recent call last)",
            "\u001b[1;32m<ipython-input-15-b6752c6307d0>\u001b[0m in \u001b[0;36m<module>\u001b[1;34m()\u001b[0m\n\u001b[0;32m      5\u001b[0m \u001b[1;31m# the initial object.\u001b[0m\u001b[1;33m\u001b[0m\u001b[1;33m\u001b[0m\u001b[0m\n\u001b[0;32m      6\u001b[0m \u001b[0mc\u001b[0m \u001b[1;33m=\u001b[0m \u001b[0mb\u001b[0m\u001b[1;33m.\u001b[0m\u001b[0mview\u001b[0m\u001b[1;33m(\u001b[0m\u001b[1;33m)\u001b[0m\u001b[1;33m\u001b[0m\u001b[0m\n\u001b[1;32m----> 7\u001b[1;33m \u001b[0mc\u001b[0m\u001b[1;33m.\u001b[0m\u001b[0mshape\u001b[0m \u001b[1;33m=\u001b[0m \u001b[1;33m(\u001b[0m\u001b[1;36m20\u001b[0m\u001b[1;33m)\u001b[0m\u001b[1;33m\u001b[0m\u001b[0m\n\u001b[0m",
            "\u001b[1;31mAttributeError\u001b[0m: incompatible shape for a non-contiguous array"
          ]
        }
      ]
    },
    {
      "metadata": {
        "id": "pE0B_GFAvPsN",
        "colab_type": "text"
      },
      "cell_type": "markdown",
      "source": [
        "Для того что бы развернуть многомерный массив в вектор, можно воспользоваться функцией [ravel](ravel)"
      ]
    },
    {
      "metadata": {
        "id": "sZt47it9vPsO",
        "colab_type": "code",
        "colab": {},
        "outputId": "000617ce-dbff-46d2-b886-8a7383a72945"
      },
      "cell_type": "code",
      "source": [
        "array = np.ravel(array)\n",
        "array"
      ],
      "execution_count": 0,
      "outputs": [
        {
          "output_type": "execute_result",
          "data": {
            "text/plain": [
              "array([0. , 0.5, 1. , 1.5, 2. , 2.5, 3. , 3.5, 4. , 4.5, 5. , 5.5])"
            ]
          },
          "metadata": {
            "tags": []
          },
          "execution_count": 16
        }
      ]
    },
    {
      "metadata": {
        "id": "KkXy_AOjvPsR",
        "colab_type": "text"
      },
      "cell_type": "markdown",
      "source": [
        "### Индексация"
      ]
    },
    {
      "metadata": {
        "id": "KbZNE8BLvPsS",
        "colab_type": "text"
      },
      "cell_type": "markdown",
      "source": [
        "В NumPy работает привычная индексация Python, включая использование отрицательных индексов и срезов"
      ]
    },
    {
      "metadata": {
        "id": "sjjiAkOxvPsU",
        "colab_type": "code",
        "colab": {},
        "outputId": "1751dfd8-bad5-4c94-df56-abe78536005e"
      },
      "cell_type": "code",
      "source": [
        "print(array[0])\n",
        "print(array[-1])\n",
        "print(array[1:-1])\n",
        "print(array[1:-1:2])\n",
        "print(array[::-1])"
      ],
      "execution_count": 0,
      "outputs": [
        {
          "output_type": "stream",
          "text": [
            "0.0\n",
            "5.5\n",
            "[0.5 1.  1.5 2.  2.5 3.  3.5 4.  4.5 5. ]\n",
            "[0.5 1.5 2.5 3.5 4.5]\n",
            "[5.5 5.  4.5 4.  3.5 3.  2.5 2.  1.5 1.  0.5 0. ]\n"
          ],
          "name": "stdout"
        }
      ]
    },
    {
      "metadata": {
        "id": "2v_EgAXVvPsY",
        "colab_type": "text"
      },
      "cell_type": "markdown",
      "source": [
        "**Замечание 1** Срезы в numpy возвращают view, а не копию массива"
      ]
    },
    {
      "metadata": {
        "id": "UtMR5UNAvPsZ",
        "colab_type": "text"
      },
      "cell_type": "markdown",
      "source": [
        "**Замечание 2**: Индексы и срезы в многомерных массивах не нужно разделять квадратными скобками \n",
        "\n",
        "т.е. вместо ```matrix[i][j]``` нужно использовать ```matrix[i, j]```"
      ]
    },
    {
      "metadata": {
        "id": "YuP5UhypvPsZ",
        "colab_type": "text"
      },
      "cell_type": "markdown",
      "source": [
        "В качестве индексов можно использовать массивы:"
      ]
    },
    {
      "metadata": {
        "id": "Y_724mppvPsa",
        "colab_type": "code",
        "colab": {},
        "outputId": "830ecd59-2eb6-46ae-96bd-d37c48f60168"
      },
      "cell_type": "code",
      "source": [
        "array[[0, 2, 4, 6, 8, 10]]"
      ],
      "execution_count": 0,
      "outputs": [
        {
          "output_type": "execute_result",
          "data": {
            "text/plain": [
              "array([0., 1., 2., 3., 4., 5.])"
            ]
          },
          "metadata": {
            "tags": []
          },
          "execution_count": 18
        }
      ]
    },
    {
      "metadata": {
        "id": "pWD3zt7PvPsf",
        "colab_type": "code",
        "colab": {},
        "outputId": "628c67e6-0aa3-4ad6-9b7f-10103782cc81"
      },
      "cell_type": "code",
      "source": [
        "array[[True, False, True, False, True, False, True, False, True, False, True, False]]"
      ],
      "execution_count": 0,
      "outputs": [
        {
          "output_type": "execute_result",
          "data": {
            "text/plain": [
              "array([0., 1., 2., 3., 4., 5.])"
            ]
          },
          "metadata": {
            "tags": []
          },
          "execution_count": 19
        }
      ]
    },
    {
      "metadata": {
        "id": "pQoGkSz7vPsj",
        "colab_type": "text"
      },
      "cell_type": "markdown",
      "source": [
        "`:` - полный срез по оси"
      ]
    },
    {
      "metadata": {
        "id": "UU2wsVd6vPsk",
        "colab_type": "code",
        "colab": {},
        "outputId": "fec5d608-87b7-4bac-8093-e2e96297c35a"
      },
      "cell_type": "code",
      "source": [
        "x = np.array([[[1, 2, 3], [4, 5, 6]]])\n",
        "x[:, :, 0]"
      ],
      "execution_count": 0,
      "outputs": [
        {
          "output_type": "execute_result",
          "data": {
            "text/plain": [
              "array([[1, 4]])"
            ]
          },
          "metadata": {
            "tags": []
          },
          "execution_count": 20
        }
      ]
    },
    {
      "metadata": {
        "id": "k0ArBiqQvPsn",
        "colab_type": "text"
      },
      "cell_type": "markdown",
      "source": [
        "Если количество индексов меньше количества осей, то пропущенные индексы считаются равными `:`"
      ]
    },
    {
      "metadata": {
        "id": "8vcCG1H3vPso",
        "colab_type": "code",
        "colab": {},
        "outputId": "07e07142-0d8b-4eb3-dbf9-39556cf39f7b"
      },
      "cell_type": "code",
      "source": [
        "x[0]"
      ],
      "execution_count": 0,
      "outputs": [
        {
          "output_type": "execute_result",
          "data": {
            "text/plain": [
              "array([[1, 2, 3],\n",
              "       [4, 5, 6]])"
            ]
          },
          "metadata": {
            "tags": []
          },
          "execution_count": 21
        }
      ]
    },
    {
      "metadata": {
        "id": "BetutaU8vPsr",
        "colab_type": "text"
      },
      "cell_type": "markdown",
      "source": [
        "`...` (**dots**) - удобный синтаксис, когда нужно использовать несколько `:` для задания полного индекса\n",
        "\n",
        "Например, пусть `x` - `np.array` с 5 осями. Тогда\n",
        "\n",
        "```\n",
        "x[1, 2, ...] - то же самое, что x[1, 2, :, :, :],\n",
        "x[..., 3] эквивалетно x[:, :, :, :, 3]\n",
        "x[4, ..., 5, :] эквивалентно x[4, :, :, 5, :]\n",
        "```"
      ]
    },
    {
      "metadata": {
        "id": "1mpNajIFvPss",
        "colab_type": "code",
        "colab": {},
        "outputId": "963b8c53-7dee-4c72-ddd7-5b03a98cc1bf"
      },
      "cell_type": "code",
      "source": [
        "x[..., 0]"
      ],
      "execution_count": 0,
      "outputs": [
        {
          "output_type": "execute_result",
          "data": {
            "text/plain": [
              "array([[1, 4]])"
            ]
          },
          "metadata": {
            "tags": []
          },
          "execution_count": 22
        }
      ]
    },
    {
      "metadata": {
        "id": "I9o8Jdy6vPsv",
        "colab_type": "text"
      },
      "cell_type": "markdown",
      "source": [
        "`np.newaxis` и `None`"
      ]
    },
    {
      "metadata": {
        "id": "qk43nVMrvPsw",
        "colab_type": "code",
        "colab": {},
        "outputId": "961b9a59-11c7-4a3a-c597-8d7ae71a01af"
      },
      "cell_type": "code",
      "source": [
        "x = np.array([10, 20])\n",
        "print(x, x.shape)\n",
        "print(x[np.newaxis], x[np.newaxis].shape, x[None].shape)\n",
        "print(x[np.newaxis, :], x[np.newaxis, :].shape)\n",
        "print(x[:, np.newaxis], x[:, np.newaxis].shape)"
      ],
      "execution_count": 0,
      "outputs": [
        {
          "output_type": "stream",
          "text": [
            "[10 20] (2,)\n",
            "[[10 20]] (1, 2) (1, 2)\n",
            "[[10 20]] (1, 2)\n",
            "[[10]\n",
            " [20]] (2, 1)\n"
          ],
          "name": "stdout"
        }
      ]
    },
    {
      "metadata": {
        "id": "k3pBqBJPvPs0",
        "colab_type": "text"
      },
      "cell_type": "markdown",
      "source": [
        "### Операции"
      ]
    },
    {
      "metadata": {
        "collapsed": true,
        "id": "ygesjpyivPs1",
        "colab_type": "text"
      },
      "cell_type": "markdown",
      "source": [
        "Операции в NumPy можно производить непосредственно над векторами одинаковой размерности без использования циклов"
      ]
    },
    {
      "metadata": {
        "id": "ve44gf7yvPs2",
        "colab_type": "code",
        "colab": {}
      },
      "cell_type": "code",
      "source": [
        "a = np.array([0, 2, 4, 6, 8, 10])\n",
        "b = np.array([10, 12, 14, 16, 18, 110])"
      ],
      "execution_count": 0,
      "outputs": []
    },
    {
      "metadata": {
        "id": "xZkXEVg7vPs5",
        "colab_type": "code",
        "colab": {},
        "outputId": "a66605ac-b70c-4c3c-8cdb-d04a590b331e"
      },
      "cell_type": "code",
      "source": [
        "print(a - b)\n",
        "print(a + b)\n",
        "print(a * b)\n",
        "print(a - b)"
      ],
      "execution_count": 0,
      "outputs": [
        {
          "output_type": "stream",
          "text": [
            "[ -10  -10  -10  -10  -10 -100]\n",
            "[ 10  14  18  22  26 120]\n",
            "[   0   24   56   96  144 1100]\n",
            "[ -10  -10  -10  -10  -10 -100]\n"
          ],
          "name": "stdout"
        }
      ]
    },
    {
      "metadata": {
        "id": "A-2en8-JvPs8",
        "colab_type": "text"
      },
      "cell_type": "markdown",
      "source": [
        "Аналогично для многомерных массивов"
      ]
    },
    {
      "metadata": {
        "id": "5SSZnn0ZvPs9",
        "colab_type": "text"
      },
      "cell_type": "markdown",
      "source": [
        "Также в NumPy есть разнообразные математические операции"
      ]
    },
    {
      "metadata": {
        "id": "cA7BULgZvPs-",
        "colab_type": "code",
        "colab": {},
        "outputId": "00f90419-726a-45a2-ebb4-13947df079b3"
      },
      "cell_type": "code",
      "source": [
        "print(np.sin(10))\n",
        "print(np.sqrt(100))\n",
        "print(np.exp(2))"
      ],
      "execution_count": 0,
      "outputs": [
        {
          "output_type": "stream",
          "text": [
            "-0.5440211108893698\n",
            "10.0\n",
            "7.38905609893065\n"
          ],
          "name": "stdout"
        }
      ]
    },
    {
      "metadata": {
        "id": "ULy-EPrzvPtB",
        "colab_type": "text"
      },
      "cell_type": "markdown",
      "source": [
        "**Замечание:** Все арифметические операции над массивами одинаковой размерности производятся поэлементно"
      ]
    },
    {
      "metadata": {
        "id": "YHpQIkdPvPtB",
        "colab_type": "text"
      },
      "cell_type": "markdown",
      "source": [
        "### [Broadcasting](https://docs.scipy.org/doc/numpy/user/basics.broadcasting.html)"
      ]
    },
    {
      "metadata": {
        "id": "E6Xas-CqvPtD",
        "colab_type": "text"
      },
      "cell_type": "markdown",
      "source": [
        "Broadcasting снимает правило одной размерности и позволяет производить арифметические операции над массивами разных, но согласованных размерностей. Например, умножение вектора на число:\n",
        "\n",
        "![Imgur](https://i.imgur.com/tE3ZCWG.gif)"
      ]
    },
    {
      "metadata": {
        "id": "qwjeR-94vPtG",
        "colab_type": "code",
        "colab": {},
        "outputId": "c76a1b01-b0c3-4e06-c2ad-c51835b82be0"
      },
      "cell_type": "code",
      "source": [
        "2 * np.arange(1, 4)"
      ],
      "execution_count": 0,
      "outputs": [
        {
          "output_type": "execute_result",
          "data": {
            "text/plain": [
              "array([2, 4, 6])"
            ]
          },
          "metadata": {
            "tags": []
          },
          "execution_count": 27
        }
      ]
    },
    {
      "metadata": {
        "id": "3Z7MSrGPvPtK",
        "colab_type": "text"
      },
      "cell_type": "markdown",
      "source": [
        "Правило согласования размерностей выражается в одном предложении: \n",
        "\n",
        "```Two dimensions are compatible when they are equal, or one of them is 1```"
      ]
    },
    {
      "metadata": {
        "id": "PyEuZzvnvPtL",
        "colab_type": "text"
      },
      "cell_type": "markdown",
      "source": [
        "Если количество размерностей не совпадают, то к массиву меньшей размерности добавляются фиктивные размерности \"слева\", например:\n",
        "```\n",
        "a = np.ones((2,3,4))\n",
        "b = np.ones(4)\n",
        "c = a * b            # here a.shape == (2, 3, 4) and b.shape is considered to be (1, 1, 4)\n",
        "```"
      ]
    },
    {
      "metadata": {
        "id": "SAMXJSBFvPtL",
        "colab_type": "text"
      },
      "cell_type": "markdown",
      "source": [
        "Прибавим к каждой строчки матрицы один и тот же вектор:"
      ]
    },
    {
      "metadata": {
        "id": "qDphL3fVvPtN",
        "colab_type": "text"
      },
      "cell_type": "markdown",
      "source": [
        "![Imgur](https://i.imgur.com/VsP2dqT.gif)"
      ]
    },
    {
      "metadata": {
        "id": "gGeQO90AvPtO",
        "colab_type": "code",
        "colab": {},
        "outputId": "7b6d6463-802e-4e12-a9a7-6af4ff295642"
      },
      "cell_type": "code",
      "source": [
        "np.array([[0, 0, 0], [10, 10, 10], [20, 20, 20], [30, 30, 30]]) + np.arange(3)"
      ],
      "execution_count": 0,
      "outputs": [
        {
          "output_type": "execute_result",
          "data": {
            "text/plain": [
              "array([[ 0,  1,  2],\n",
              "       [10, 11, 12],\n",
              "       [20, 21, 22],\n",
              "       [30, 31, 32]])"
            ]
          },
          "metadata": {
            "tags": []
          },
          "execution_count": 28
        }
      ]
    },
    {
      "metadata": {
        "id": "gnHGBfhkvPtT",
        "colab_type": "text"
      },
      "cell_type": "markdown",
      "source": [
        "Теперь если мы хотим, проделать тот же трюк но со столбцами, то мы не можем просто добавить вектор состоящий из 4 элементов т.к. в данном случае размеры будут не согласованы"
      ]
    },
    {
      "metadata": {
        "id": "_9q7vYMSvPtU",
        "colab_type": "text"
      },
      "cell_type": "markdown",
      "source": [
        "![Imgur](https://i.imgur.com/9LvGoeL.gif)"
      ]
    },
    {
      "metadata": {
        "id": "BPeSRkdsvPtV",
        "colab_type": "text"
      },
      "cell_type": "markdown",
      "source": [
        "Сначала нужно преоброзовать вектор к виду:"
      ]
    },
    {
      "metadata": {
        "id": "HE7euaWivPtV",
        "colab_type": "code",
        "colab": {},
        "outputId": "f4f90f12-e9a6-448f-ed0e-fc45de3f8915"
      },
      "cell_type": "code",
      "source": [
        "np.arange(4)[:, np.newaxis]"
      ],
      "execution_count": 0,
      "outputs": [
        {
          "output_type": "execute_result",
          "data": {
            "text/plain": [
              "array([[0],\n",
              "       [1],\n",
              "       [2],\n",
              "       [3]])"
            ]
          },
          "metadata": {
            "tags": []
          },
          "execution_count": 29
        }
      ]
    },
    {
      "metadata": {
        "id": "BwvXREqbvPtY",
        "colab_type": "text"
      },
      "cell_type": "markdown",
      "source": [
        "А затем к нему добавить матрицу:"
      ]
    },
    {
      "metadata": {
        "id": "9nCLjMOXvPtZ",
        "colab_type": "code",
        "colab": {},
        "outputId": "26d1e491-1e5b-48fb-f003-352f383a75ae"
      },
      "cell_type": "code",
      "source": [
        "np.arange(4)[:, np.newaxis] + np.array([[0, 0, 0], [10, 10, 10], [20, 20, 20], [30, 30, 30]])"
      ],
      "execution_count": 0,
      "outputs": [
        {
          "output_type": "execute_result",
          "data": {
            "text/plain": [
              "array([[ 0,  0,  0],\n",
              "       [11, 11, 11],\n",
              "       [22, 22, 22],\n",
              "       [33, 33, 33]])"
            ]
          },
          "metadata": {
            "tags": []
          },
          "execution_count": 30
        }
      ]
    },
    {
      "metadata": {
        "id": "fV86X2zgvPtb",
        "colab_type": "text"
      },
      "cell_type": "markdown",
      "source": [
        "Если нужно перемножить многомерные массивы не поэлеметно, а по правилу перемножения матриц, то следует воспользоваться [np.dot](https://docs.scipy.org/doc/numpy/reference/generated/numpy.dot.html)\n",
        "\n",
        "Транспонирование производится с помощью `ndarray.T` (пример: `a.T`) или [np.transpose](https://docs.scipy.org/doc/numpy/reference/generated/numpy.ndarray.transpose.html)\n",
        "\n",
        "Так же в NumPy реализованно много полезных операций для работы с массивами:\n",
        "[np.min](https://docs.scipy.org/doc/numpy/reference/generated/numpy.ndarray.min.html),\n",
        "[np.max](https://docs.scipy.org/doc/numpy/reference/generated/numpy.ndarray.max.html),\n",
        "[np.sum](https://docs.scipy.org/doc/numpy/reference/generated/numpy.sum.html),\n",
        "[np.mean](https://docs.scipy.org/doc/numpy/reference/generated/numpy.mean.html) и т.д.\n",
        "\n",
        "**Замечание:** В каждой из перечисленных функций есть параметр **axis**, который указывает по какому измерению производить данную операцию. По умолчанию операция производится по всем значениям массива\n",
        "\n",
        "Например,"
      ]
    },
    {
      "metadata": {
        "id": "1KJL5G2fvPtb",
        "colab_type": "code",
        "colab": {},
        "outputId": "5aef9ea2-9f67-4d07-a51b-f60041612d57"
      },
      "cell_type": "code",
      "source": [
        "a = [[1, 2, 3],\n",
        "    [20, 40, 60],\n",
        "    [300, 600, 900]\n",
        "]\n",
        "\n",
        "\n",
        "print('Среднее всех значений: {}'.format(np.mean(a)))\n",
        "print('Среднее значение по строкам: {}'.format(np.mean(a, axis=0)))\n",
        "print('Среднее значение по столбцам: {}'.format(np.mean(a, axis=1)))"
      ],
      "execution_count": 0,
      "outputs": [
        {
          "output_type": "stream",
          "text": [
            "Среднее всех значений: 214.0\n",
            "Среднее значение по строкам: [107. 214. 321.]\n",
            "Среднее значение по столбцам: [  2.  40. 600.]\n"
          ],
          "name": "stdout"
        }
      ]
    },
    {
      "metadata": {
        "id": "dpf4BAXxvPtj",
        "colab_type": "text"
      },
      "cell_type": "markdown",
      "source": [
        "### Конкатенация многомерных массивов\n",
        "\n",
        "Конкатенировать несколько массивом можно с помощью функций [**np.concatenate, np.hstack, np.vstack**](https://stackoverflow.com/questions/33356442/when-should-i-use-hstack-vstack-vs-append-vs-concatenate-vs-column-stack)"
      ]
    },
    {
      "metadata": {
        "id": "Fh4HrXWwvPtk",
        "colab_type": "code",
        "colab": {}
      },
      "cell_type": "code",
      "source": [
        "a = [[1, 2, 3],\n",
        "    [20, 40, 60],\n",
        "    [300, 600, 900]]\n",
        "\n",
        "b = [[-1, -2, -3],\n",
        "    [-20, -40, -60],\n",
        "    [-300, -600, -900]]"
      ],
      "execution_count": 0,
      "outputs": []
    },
    {
      "metadata": {
        "id": "boz4wzDpvPtl",
        "colab_type": "code",
        "colab": {},
        "outputId": "e322bc34-4707-424d-e25d-be0e24a9da3d"
      },
      "cell_type": "code",
      "source": [
        "np.hstack([a, b])"
      ],
      "execution_count": 0,
      "outputs": [
        {
          "output_type": "execute_result",
          "data": {
            "text/plain": [
              "array([[   1,    2,    3,   -1,   -2,   -3],\n",
              "       [  20,   40,   60,  -20,  -40,  -60],\n",
              "       [ 300,  600,  900, -300, -600, -900]])"
            ]
          },
          "metadata": {
            "tags": []
          },
          "execution_count": 33
        }
      ]
    },
    {
      "metadata": {
        "id": "UCFdLKapvPto",
        "colab_type": "code",
        "colab": {},
        "outputId": "2d5f7230-ed41-45c4-bbad-0181b12083bd"
      },
      "cell_type": "code",
      "source": [
        "np.vstack([a, b])"
      ],
      "execution_count": 0,
      "outputs": [
        {
          "output_type": "execute_result",
          "data": {
            "text/plain": [
              "array([[   1,    2,    3],\n",
              "       [  20,   40,   60],\n",
              "       [ 300,  600,  900],\n",
              "       [  -1,   -2,   -3],\n",
              "       [ -20,  -40,  -60],\n",
              "       [-300, -600, -900]])"
            ]
          },
          "metadata": {
            "tags": []
          },
          "execution_count": 34
        }
      ]
    },
    {
      "metadata": {
        "id": "2HrtYBxCvPtq",
        "colab_type": "text"
      },
      "cell_type": "markdown",
      "source": [
        "## [Matplotlib](https://matplotlib.org/)"
      ]
    },
    {
      "metadata": {
        "id": "ne_bZ0qovPtt",
        "colab_type": "code",
        "colab": {}
      },
      "cell_type": "code",
      "source": [
        "import matplotlib.pylab as plt"
      ],
      "execution_count": 0,
      "outputs": []
    },
    {
      "metadata": {
        "id": "eUa7THh2vPtw",
        "colab_type": "code",
        "colab": {},
        "outputId": "a676d828-95ed-4899-8b2d-e31aa588b2c8"
      },
      "cell_type": "code",
      "source": [
        "X = np.sin(np.linspace(-10, 10, 2001))\n",
        "\n",
        "plt.figure(figsize=(7, 3.5))\n",
        "plt.title('Sin graph')\n",
        "plt.plot(np.linspace(-10, 10, 2001), X, color='lime')\n",
        "plt.xlabel('X')\n",
        "plt.ylabel('Sin')\n",
        "plt.show()"
      ],
      "execution_count": 0,
      "outputs": [
        {
          "output_type": "display_data",
          "data": {
            "image/png": "[encoded data removed]",
            "text/plain": [
              "<Figure size 504x252 with 1 Axes>"
            ]
          },
          "metadata": {
            "tags": [],
            "needs_background": "light"
          }
        }
      ]
    },
    {
      "metadata": {
        "id": "2QM2M-rzvPtz",
        "colab_type": "code",
        "colab": {},
        "outputId": "06fcea69-ca07-4c49-98d7-6e47d7902b29"
      },
      "cell_type": "code",
      "source": [
        "X1 = np.sin(np.linspace(-10, 10, 2001))\n",
        "X2 = np.cos(np.linspace(-10, 10, 2001))\n",
        "\n",
        "plt.figure(figsize=(10, 5))\n",
        "plt.title('Graphs')\n",
        "plt.plot(np.linspace(-10, 10, 2001), X1, color='lime', label='sine')\n",
        "plt.plot(np.linspace(-10, 10, 2001), X2, color='darkviolet', label='cosine')\n",
        "\n",
        "plt.legend(loc='upper left')\n",
        "plt.xlabel('X')\n",
        "plt.ylabel('Y')\n",
        "plt.show()"
      ],
      "execution_count": 0,
      "outputs": [
        {
          "output_type": "display_data",
          "data": {
            "image/png": "[encoded data removed]",
            "text/plain": [
              "<Figure size 720x360 with 1 Axes>"
            ]
          },
          "metadata": {
            "tags": [],
            "needs_background": "light"
          }
        }
      ]
    },
    {
      "metadata": {
        "id": "hbGkEjJKvPt1",
        "colab_type": "code",
        "colab": {},
        "outputId": "d29b9ac0-b36c-4fb4-c260-f62330b3fc88"
      },
      "cell_type": "code",
      "source": [
        "plt.figure(figsize=(12, 3))\n",
        "\n",
        "plt.subplot(121)\n",
        "plt.title('Sine')\n",
        "plt.plot(np.linspace(-10, 10, 2001), X1, color='lime')\n",
        "plt.xlabel('X')\n",
        "plt.ylabel('Y')\n",
        "\n",
        "plt.subplot(122)\n",
        "plt.title('Cosine')\n",
        "plt.plot(np.linspace(-10, 10, 2001), X2, color='darkviolet')\n",
        "plt.xlabel('X')\n",
        "\n",
        "plt.show()"
      ],
      "execution_count": 0,
      "outputs": [
        {
          "output_type": "display_data",
          "data": {
            "image/png": "[encoded data removed]",
            "text/plain": [
              "<Figure size 864x216 with 2 Axes>"
            ]
          },
          "metadata": {
            "tags": [],
            "needs_background": "light"
          }
        }
      ]
    },
    {
      "metadata": {
        "id": "ThTJD7ncvPt3",
        "colab_type": "code",
        "colab": {},
        "outputId": "72ac615d-e374-4f67-a971-cf437fc3fd9a"
      },
      "cell_type": "code",
      "source": [
        "X1 = np.random.rand(1000)\n",
        "X2 = np.random.rand(1000) * 0.5\n",
        "\n",
        "plt.figure(figsize=(10, 5))\n",
        "for X, label, color in zip([X1, X2], ['X1', 'X2'], ['lime', 'darkviolet']):\n",
        "    plt.hist(X, bins=10, color=color, label=label)\n",
        "plt.xlabel('Hist')\n",
        "plt.ylabel('Count')\n",
        "plt.legend()\n",
        "plt.show()"
      ],
      "execution_count": 0,
      "outputs": [
        {
          "output_type": "display_data",
          "data": {
            "image/png": "[encoded data removed]",
            "text/plain": [
              "<Figure size 720x360 with 1 Axes>"
            ]
          },
          "metadata": {
            "tags": [],
            "needs_background": "light"
          }
        }
      ]
    },
    {
      "metadata": {
        "id": "DYVPUv6kvPt5",
        "colab_type": "code",
        "colab": {},
        "outputId": "b5dedbc0-8615-4e5b-bad5-c1f37e5b9883"
      },
      "cell_type": "code",
      "source": [
        "plt.figure(figsize=(5, 5))\n",
        "plt.scatter(X1, X2)\n",
        "plt.xlabel('X1')\n",
        "plt.ylabel('X2')\n",
        "plt.show()"
      ],
      "execution_count": 0,
      "outputs": [
        {
          "output_type": "display_data",
          "data": {
            "image/png": "[encoded data removed]",
            "text/plain": [
              "<Figure size 360x360 with 1 Axes>"
            ]
          },
          "metadata": {
            "tags": [],
            "needs_background": "light"
          }
        }
      ]
    }
  ]
}