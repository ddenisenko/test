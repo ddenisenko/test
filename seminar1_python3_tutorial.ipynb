{
  "nbformat": 4,
  "nbformat_minor": 0,
  "metadata": {
    "colab": {
      "name": "seminar1_python3_tutorial.ipynb",
      "version": "0.3.2",
      "provenance": [],
      "include_colab_link": true
    },
    "kernelspec": {
      "display_name": "Python 3",
      "language": "python",
      "name": "python3"
    }
  },
  "cells": [
    {
      "cell_type": "markdown",
      "metadata": {
        "id": "view-in-github",
        "colab_type": "text"
      },
      "source": [
        "<a href=\"https://colab.research.google.com/github/ddenisenko/test/blob/master/seminar1_python3_tutorial.ipynb\" target=\"_parent\"><img src=\"https://colab.research.google.com/assets/colab-badge.svg\" alt=\"Open In Colab\"/></a>"
      ]
    },
    {
      "metadata": {
        "id": "mkrClv1yvFJu",
        "colab_type": "text"
      },
      "cell_type": "markdown",
      "source": [
        "## Краткий туториал по Python 3"
      ]
    },
    {
      "metadata": {
        "id": "NhfR2w0-vFJv",
        "colab_type": "text"
      },
      "cell_type": "markdown",
      "source": [
        "Данное руководство ни в коем случае не предентует на полноту изложения\n",
        "\n",
        "На курсе мы используем `python 3.6+`\n",
        "\n",
        "Полезные ссылки:\n",
        "\n",
        "- Официальная документация Python 3.6: https://docs.python.org/3.6/\n",
        "- Официальное руководство с примерами: https://docs.python.org/3.6/tutorial/index.html\n",
        "\n",
        "- Официальная документация Python 3.7: https://docs.python.org/3.7/\n",
        "- Официальное руководство с примерами: https://docs.python.org/3.7/tutorial/index.html\n",
        "\n",
        "- Различия между Python2 и Python3 https://wiki.python.org/moin/Python2orPython3"
      ]
    },
    {
      "metadata": {
        "id": "a38SpRoRvFJx",
        "colab_type": "text"
      },
      "cell_type": "markdown",
      "source": [
        "### Установка пакетов\n",
        "\n",
        "**pip** - стандартный способ установки python пакетов"
      ]
    },
    {
      "metadata": {
        "id": "x-KQ0SdLvFJy",
        "colab_type": "text"
      },
      "cell_type": "markdown",
      "source": [
        "```\n",
        "pip install numpy\n",
        "pip install numpy==1.16.1\n",
        "pip install git+https://github.com/username/repo.git\n",
        "pip install --user numpy\n",
        "pip install --upgrade numpy\n",
        "\n",
        "pip install -r requirements.txt\n",
        "pip freeze > requirements.txt\n",
        "\n",
        "pip uninstall numpy\n",
        "```"
      ]
    },
    {
      "metadata": {
        "id": "kCUk5o69vFJz",
        "colab_type": "text"
      },
      "cell_type": "markdown",
      "source": [
        "**Пакет** - архив с необходимыми для локального использования файлами\n",
        "\n",
        "- актуальные форматы пакетов:\n",
        "    - wheel (уже собранные, требуется только положить в правильную папку)\n",
        "    - sdist (требует компиляции)\n",
        "- неактуальный:\n",
        "    - egg (бинарный)"
      ]
    },
    {
      "metadata": {
        "id": "OSjGQnn-vFJ0",
        "colab_type": "text"
      },
      "cell_type": "markdown",
      "source": [
        "### Виртуальное окружение\n",
        "\n",
        "- Что, если нужно использовать две разные версии одной и той же библиотеки?\n",
        "- Страшно что-то сломать при обновлении пакетов?\n",
        "- Недостаточно прав для установки пакетов?\n",
        "\n",
        "**Решение**: использовать виртуальное окружение"
      ]
    },
    {
      "metadata": {
        "id": "YXghKoKuvFJ0",
        "colab_type": "text"
      },
      "cell_type": "markdown",
      "source": [
        "**Виртуальное окружение** - изолированная среда для библиотек и приложений.\n",
        "\n",
        "Создается директория с интерпретатором *Python*, библиотеками и скриптами, изолированными от других виртуальных окружений и операционной системы"
      ]
    },
    {
      "metadata": {
        "id": "Epvmj8QMvFJ1",
        "colab_type": "text"
      },
      "cell_type": "markdown",
      "source": [
        "Широко используются две реализации: `virtualenv` и `venv`, одинаковые по функциональности.\n",
        "\n",
        "`venv` поставляется с дистрибутивом Python 3.3+, `virtualenv` поддерживает Python 2.6+\n",
        "\n",
        "[обзор альтернативных решений](https://stackoverflow.com/questions/41573587/what-is-the-difference-between-venv-pyvenv-pyenv-virtualenv-virtualenvwrappe/41573588#41573588)"
      ]
    },
    {
      "metadata": {
        "id": "MYG4z115vFJ2",
        "colab_type": "text"
      },
      "cell_type": "markdown",
      "source": [
        "**Типовое использование**\n",
        "\n",
        "```\n",
        "# virtualenv\n",
        "virtualenv <DIR>\n",
        "source <DIR>/bin/activate\n",
        "```\n",
        "\n",
        "```\n",
        "# venv\n",
        "python3 -m venv <DIR>\n",
        "source <DIR>/bin/activate  # or . <DIR>/bin/activate\n",
        "```\n",
        "\n",
        "В текущей сессии команда python будет запускать интерпретатор из окружения и новые пакеты будут тоже устанавливаться в него\n",
        "\n",
        "Чтобы деактивировать:\n",
        "\n",
        "```\n",
        "deactivate\n",
        "```"
      ]
    },
    {
      "metadata": {
        "id": "EkilOkVjvFJ3",
        "colab_type": "text"
      },
      "cell_type": "markdown",
      "source": [
        "Ну и, конечно, всегда можно использовать [Anaconda](https://www.anaconda.com/) (но лучше привыкать к `venv`)"
      ]
    },
    {
      "metadata": {
        "id": "kIf5pFBBvFJ4",
        "colab_type": "text"
      },
      "cell_type": "markdown",
      "source": [
        "### Python"
      ]
    },
    {
      "metadata": {
        "id": "q0FqENs8vFJ5",
        "colab_type": "text"
      },
      "cell_type": "markdown",
      "source": [
        "### Базовые типы данных и операции"
      ]
    },
    {
      "metadata": {
        "id": "V7iDILBbvFJ6",
        "colab_type": "text"
      },
      "cell_type": "markdown",
      "source": [
        "**Арифметические**\n",
        "\n",
        "- int\n",
        "- float"
      ]
    },
    {
      "metadata": {
        "id": "lWTwdEzSvFJ7",
        "colab_type": "text"
      },
      "cell_type": "markdown",
      "source": [
        "В Python, кроме обычных для других языков арифметических операций, есть и необычные, например, возведение в степень"
      ]
    },
    {
      "metadata": {
        "id": "fvngoC6RvFJ8",
        "colab_type": "code",
        "colab": {},
        "outputId": "3bd3e8bd-8a21-4e25-baa9-cf5750475a88"
      },
      "cell_type": "code",
      "source": [
        "1 + 2 * (3 ** 2) / 7"
      ],
      "execution_count": 0,
      "outputs": [
        {
          "output_type": "execute_result",
          "data": {
            "text/plain": [
              "3.5714285714285716"
            ]
          },
          "metadata": {
            "tags": []
          },
          "execution_count": 1
        }
      ]
    },
    {
      "metadata": {
        "id": "0xwYjOsxvFKD",
        "colab_type": "code",
        "colab": {},
        "outputId": "2326a1c7-157d-4ae0-c4d9-fdbd916df52f"
      },
      "cell_type": "code",
      "source": [
        "(1 << 2) | (4 >> 2)"
      ],
      "execution_count": 0,
      "outputs": [
        {
          "output_type": "execute_result",
          "data": {
            "text/plain": [
              "5"
            ]
          },
          "metadata": {
            "tags": []
          },
          "execution_count": 2
        }
      ]
    },
    {
      "metadata": {
        "id": "iBP5LvqlvFKI",
        "colab_type": "text"
      },
      "cell_type": "markdown",
      "source": [
        "В Python встроена длинная арифметика"
      ]
    },
    {
      "metadata": {
        "id": "2-ymOmRJvFKJ",
        "colab_type": "code",
        "colab": {},
        "outputId": "eee12f9e-829a-454c-8027-faa71f0c8fad"
      },
      "cell_type": "code",
      "source": [
        "print(2 ** 300, type(2 ** 300))"
      ],
      "execution_count": 0,
      "outputs": [
        {
          "output_type": "stream",
          "text": [
            "2037035976334486086268445688409378161051468393665936250636140449354381299763336706183397376 <class 'int'>\n"
          ],
          "name": "stdout"
        }
      ]
    },
    {
      "metadata": {
        "id": "ZykssDpevFKN",
        "colab_type": "text"
      },
      "cell_type": "markdown",
      "source": [
        "**Логический**\n",
        "\n",
        "- bool"
      ]
    },
    {
      "metadata": {
        "id": "CP7SUVl3vFKO",
        "colab_type": "code",
        "colab": {},
        "outputId": "100c669c-c7df-47b9-8a6c-1414348a05cb"
      },
      "cell_type": "code",
      "source": [
        "print(True or False)\n",
        "\n",
        "print(not False or some_var) # lazy evaluation\n",
        "\n",
        "print(7 or True)"
      ],
      "execution_count": 0,
      "outputs": [
        {
          "output_type": "stream",
          "text": [
            "True\n",
            "True\n",
            "7\n"
          ],
          "name": "stdout"
        }
      ]
    },
    {
      "metadata": {
        "id": "hi_rTs7mvFKT",
        "colab_type": "text"
      },
      "cell_type": "markdown",
      "source": [
        "**None**"
      ]
    },
    {
      "metadata": {
        "id": "nApDAxbzvFKU",
        "colab_type": "code",
        "colab": {},
        "outputId": "e05f6d75-fbfb-4e61-f2f2-31de2c5bb8da"
      },
      "cell_type": "code",
      "source": [
        "a = None\n",
        "print(a, type(a))\n",
        "\n",
        "print(None == None)\n",
        "\n",
        "print(bool(None))"
      ],
      "execution_count": 0,
      "outputs": [
        {
          "output_type": "stream",
          "text": [
            "None <class 'NoneType'>\n",
            "True\n",
            "False\n"
          ],
          "name": "stdout"
        }
      ]
    },
    {
      "metadata": {
        "id": "Fh2MTcwXvFKY",
        "colab_type": "text"
      },
      "cell_type": "markdown",
      "source": [
        "**Строки**\n",
        "\n",
        "В Python 3 все строки - unicode, в отличие от Python 2, где unicode был отдельным типом"
      ]
    },
    {
      "metadata": {
        "id": "k4P-JfqlvFKZ",
        "colab_type": "code",
        "colab": {},
        "outputId": "0b6ad36a-ad5a-4fb8-cd4f-a7fd9c820c5e"
      },
      "cell_type": "code",
      "source": [
        "s = 'Hello'\n",
        "print (s[len(s) - 4])"
      ],
      "execution_count": 0,
      "outputs": [
        {
          "output_type": "stream",
          "text": [
            "e\n"
          ],
          "name": "stdout"
        }
      ]
    },
    {
      "metadata": {
        "id": "IATm2ZpdvFKf",
        "colab_type": "text"
      },
      "cell_type": "markdown",
      "source": [
        "Строки **неизменяемые**"
      ]
    },
    {
      "metadata": {
        "id": "5i2g48xXvFKg",
        "colab_type": "code",
        "colab": {},
        "outputId": "6a27ba82-8651-4bf5-a030-4e163080b5f0"
      },
      "cell_type": "code",
      "source": [
        "s[0] = 'P'"
      ],
      "execution_count": 0,
      "outputs": [
        {
          "output_type": "error",
          "ename": "TypeError",
          "evalue": "'str' object does not support item assignment",
          "traceback": [
            "\u001b[1;31m---------------------------------------------------------------------------\u001b[0m",
            "\u001b[1;31mTypeError\u001b[0m                                 Traceback (most recent call last)",
            "\u001b[1;32m<ipython-input-7-414ffc780e5f>\u001b[0m in \u001b[0;36m<module>\u001b[1;34m()\u001b[0m\n\u001b[1;32m----> 1\u001b[1;33m \u001b[0ms\u001b[0m\u001b[1;33m[\u001b[0m\u001b[1;36m0\u001b[0m\u001b[1;33m]\u001b[0m \u001b[1;33m=\u001b[0m \u001b[1;34m'P'\u001b[0m\u001b[1;33m\u001b[0m\u001b[0m\n\u001b[0m",
            "\u001b[1;31mTypeError\u001b[0m: 'str' object does not support item assignment"
          ]
        }
      ]
    },
    {
      "metadata": {
        "id": "c69RtoPDvFKk",
        "colab_type": "text"
      },
      "cell_type": "markdown",
      "source": [
        "Символ в строке можно изменить, например, так:"
      ]
    },
    {
      "metadata": {
        "id": "Q6OC3QpGvFKl",
        "colab_type": "code",
        "colab": {},
        "outputId": "03b809b2-6964-494e-f4f4-952370820403"
      },
      "cell_type": "code",
      "source": [
        "s = 'tha text'\n",
        "s = s[:2] + 'e' + s[3:]\n",
        "print(s)"
      ],
      "execution_count": 0,
      "outputs": [
        {
          "output_type": "stream",
          "text": [
            "the text\n"
          ],
          "name": "stdout"
        }
      ]
    },
    {
      "metadata": {
        "id": "0eTudT_OvFKp",
        "colab_type": "text"
      },
      "cell_type": "markdown",
      "source": [
        "Строки очень просто \"размножать\""
      ]
    },
    {
      "metadata": {
        "id": "WpYS69TyvFKr",
        "colab_type": "code",
        "colab": {},
        "outputId": "2d21fd80-bc95-4ab3-d09b-f293189a536d"
      },
      "cell_type": "code",
      "source": [
        "print('kva ' * 10)"
      ],
      "execution_count": 0,
      "outputs": [
        {
          "output_type": "stream",
          "text": [
            "kva kva kva kva kva kva kva kva kva kva \n"
          ],
          "name": "stdout"
        }
      ]
    },
    {
      "metadata": {
        "id": "Bp5aH60nvFKx",
        "colab_type": "text"
      },
      "cell_type": "markdown",
      "source": [
        "У строк есть много встроенных полезных функций, например, `strip`, `split`, `upper`, `lower` и т.д."
      ]
    },
    {
      "metadata": {
        "id": "FjEBm6NHvFKy",
        "colab_type": "code",
        "colab": {},
        "outputId": "ad9b2f1f-168c-472c-bf07-d46fc2f79b19"
      },
      "cell_type": "code",
      "source": [
        "hi = 'Hello world!'\n",
        "hi.upper(), hi.lower()"
      ],
      "execution_count": 0,
      "outputs": [
        {
          "output_type": "execute_result",
          "data": {
            "text/plain": [
              "('HELLO WORLD!', 'hello world!')"
            ]
          },
          "metadata": {
            "tags": []
          },
          "execution_count": 10
        }
      ]
    },
    {
      "metadata": {
        "id": "NgmVEBhTvFK2",
        "colab_type": "code",
        "colab": {},
        "outputId": "e86ba1a8-986a-4831-f479-2194a840e9ef"
      },
      "cell_type": "code",
      "source": [
        "s = \"\"\"      Hello world!       \n",
        "\n",
        "\"\"\"\n",
        "print(s.strip())"
      ],
      "execution_count": 0,
      "outputs": [
        {
          "output_type": "stream",
          "text": [
            "Hello world!\n"
          ],
          "name": "stdout"
        }
      ]
    },
    {
      "metadata": {
        "id": "uJdFaqlfvFK-",
        "colab_type": "code",
        "colab": {},
        "outputId": "a2c196ce-4c10-4086-f7f9-a3f99c6cd8e3"
      },
      "cell_type": "code",
      "source": [
        "s = 'very long text'\n",
        "splitted = s.split(' ') \n",
        "print(splitted)\n",
        "print('_'.join(splitted))"
      ],
      "execution_count": 0,
      "outputs": [
        {
          "output_type": "stream",
          "text": [
            "['very', 'long', 'text']\n",
            "very_long_text\n"
          ],
          "name": "stdout"
        }
      ]
    },
    {
      "metadata": {
        "id": "4EMeYRMGvFLB",
        "colab_type": "text"
      },
      "cell_type": "markdown",
      "source": [
        "Помимо обычного присваивания значения переменной, есть еще множественное присваивание, когда переменные записываются через запятую"
      ]
    },
    {
      "metadata": {
        "id": "ahfZ3EaqvFLC",
        "colab_type": "code",
        "colab": {},
        "outputId": "1875c63f-bd84-41a0-87af-584264dbeb66"
      },
      "cell_type": "code",
      "source": [
        "a = 10\n",
        "print(a)\n",
        "\n",
        "b, c = 3.14, 15\n",
        "print(b, c)\n",
        "print(type(a), type(b), type(c))\n",
        "\n",
        "b, c = c, b\n",
        "print(b, c)\n",
        "print(type(a), type(b), type(c))"
      ],
      "execution_count": 0,
      "outputs": [
        {
          "output_type": "stream",
          "text": [
            "10\n",
            "3.14 15\n",
            "<class 'int'> <class 'float'> <class 'int'>\n",
            "15 3.14\n",
            "<class 'int'> <class 'int'> <class 'float'>\n"
          ],
          "name": "stdout"
        }
      ]
    },
    {
      "metadata": {
        "id": "ka83eMwPvFLH",
        "colab_type": "text"
      },
      "cell_type": "markdown",
      "source": [
        "**Неизменяемые (immutable) типы**\n",
        "\n",
        "`int, float, complex, bool, str, tuple, frozenset`\n",
        "\n",
        "При попытке совершить изменяющую операцию с неизменяемым объектом может произойти следующее:\n",
        "\n",
        "- Будет создана копия объекта с внесенными изменениями (например, оператор +=)\n",
        "- Вылетит ошибка (например, оператор [])\n",
        "\n",
        "**Изменяемые (mutable) типы**\n",
        "\n",
        "Пример: `list, dict, set`\n",
        "\n",
        "\n",
        "**Создание и удаление**\n",
        "\n",
        "При создании двух mutable-объектов отдельно - они будут гарантированно разными. Для immutable объектов это верно не всегда.\n",
        "\n",
        "Об удалении объектов заботиться не нужно, за вас всё сделает garbage collector, но, при желании, можно использовать `del` и модуль `gc`"
      ]
    },
    {
      "metadata": {
        "id": "v6hJ7QJvvFLJ",
        "colab_type": "text"
      },
      "cell_type": "markdown",
      "source": [
        "### Управляющие конструкции"
      ]
    },
    {
      "metadata": {
        "id": "2n3YAMGivFLK",
        "colab_type": "text"
      },
      "cell_type": "markdown",
      "source": [
        "Условный оператор if-elif-else. Все логические блоки выделяются отступами, по PEP 8 - 4 пробела"
      ]
    },
    {
      "metadata": {
        "id": "b3cWJGOsvFLL",
        "colab_type": "code",
        "colab": {},
        "outputId": "cd4b4bef-a3ad-439d-867b-7a8bbcf2ff3f"
      },
      "cell_type": "code",
      "source": [
        "a = 2\n",
        "\n",
        "if a > 5:\n",
        "    print('> 5')\n",
        "elif a == 5:\n",
        "    print('5')\n",
        "elif a < 5:\n",
        "    print('< 5')\n",
        "else:\n",
        "    print('WTF?!')"
      ],
      "execution_count": 0,
      "outputs": [
        {
          "output_type": "stream",
          "text": [
            "< 5\n"
          ],
          "name": "stdout"
        }
      ]
    },
    {
      "metadata": {
        "id": "44oOIQ7cvFLP",
        "colab_type": "text"
      },
      "cell_type": "markdown",
      "source": [
        "while с постусловием"
      ]
    },
    {
      "metadata": {
        "id": "UImiNkuavFLR",
        "colab_type": "code",
        "colab": {},
        "outputId": "5ce9c3c6-f6ec-46a7-be57-c5cb9b91049d"
      },
      "cell_type": "code",
      "source": [
        "data = [19, 2, 4, 6, 7, 3]\n",
        "element_to_find = 10\n",
        "\n",
        "i = 0\n",
        "while i < len(data):\n",
        "    if data[i] == element_to_find:\n",
        "        print('Found!')\n",
        "        break\n",
        "    i += 1\n",
        "else:\n",
        "    print('Not found!')"
      ],
      "execution_count": 0,
      "outputs": [
        {
          "output_type": "stream",
          "text": [
            "Not found!\n"
          ],
          "name": "stdout"
        }
      ]
    },
    {
      "metadata": {
        "id": "hGDbMJ4hvFLU",
        "colab_type": "text"
      },
      "cell_type": "markdown",
      "source": [
        "Аналогично для for"
      ]
    },
    {
      "metadata": {
        "id": "coxuSOMXvFLV",
        "colab_type": "code",
        "colab": {},
        "outputId": "84569c77-c665-468f-be84-2a6aa29946ab"
      },
      "cell_type": "code",
      "source": [
        "data = [19, 2, 4, 6, 7, 3]\n",
        "element_to_find = 10\n",
        "for i in range(len(data)):\n",
        "    if data[i] == element_to_find:\n",
        "        print('Found!')\n",
        "        break\n",
        "else:\n",
        "    print('Not found!')"
      ],
      "execution_count": 0,
      "outputs": [
        {
          "output_type": "stream",
          "text": [
            "Not found!\n"
          ],
          "name": "stdout"
        }
      ]
    },
    {
      "metadata": {
        "id": "MR2a_HnyvFLZ",
        "colab_type": "text"
      },
      "cell_type": "markdown",
      "source": [
        "Вместо итерирования по индексу можно итерироваться сразу по списку"
      ]
    },
    {
      "metadata": {
        "id": "ICA301o0vFLa",
        "colab_type": "code",
        "colab": {},
        "outputId": "68ad5c41-6b32-4f5a-ee70-443f3bab1a02"
      },
      "cell_type": "code",
      "source": [
        "data = [19, 2, 4, 6, 7, 3]\n",
        "element_to_find = 10\n",
        "for element in data:\n",
        "    if element == element_to_find:\n",
        "        print('Found!')\n",
        "        break\n",
        "else:\n",
        "    print('Not found!')"
      ],
      "execution_count": 0,
      "outputs": [
        {
          "output_type": "stream",
          "text": [
            "Not found!\n"
          ],
          "name": "stdout"
        }
      ]
    },
    {
      "metadata": {
        "id": "iW8uxIYtvFLd",
        "colab_type": "text"
      },
      "cell_type": "markdown",
      "source": [
        "Хотя лучше использовать `in`"
      ]
    },
    {
      "metadata": {
        "id": "w7-CabD_vFLf",
        "colab_type": "code",
        "colab": {},
        "outputId": "d0db717a-281d-47d0-b1bb-d8d9c87a02b4"
      },
      "cell_type": "code",
      "source": [
        "data = [19, 2, 4, 6, 7, 3]\n",
        "element_to_find = 10\n",
        "if element_to_find in data:\n",
        "    print('Found!')\n",
        "else:\n",
        "    print('Not found!')"
      ],
      "execution_count": 0,
      "outputs": [
        {
          "output_type": "stream",
          "text": [
            "Not found!\n"
          ],
          "name": "stdout"
        }
      ]
    },
    {
      "metadata": {
        "id": "SEakKUdtvFLi",
        "colab_type": "text"
      },
      "cell_type": "markdown",
      "source": [
        "### Тернарный оператор"
      ]
    },
    {
      "metadata": {
        "scrolled": false,
        "id": "EITy1NopvFLk",
        "colab_type": "code",
        "colab": {},
        "outputId": "872c03e3-6e8a-4789-caca-cbd0bbe4ad43"
      },
      "cell_type": "code",
      "source": [
        "b = 10\n",
        "a = b / 2 if b % 2 else b - 1\n",
        "\n",
        "print(a)"
      ],
      "execution_count": 0,
      "outputs": [
        {
          "output_type": "stream",
          "text": [
            "9\n"
          ],
          "name": "stdout"
        }
      ]
    },
    {
      "metadata": {
        "id": "N44Rcqa6vFLn",
        "colab_type": "text"
      },
      "cell_type": "markdown",
      "source": [
        "### Списки (list)"
      ]
    },
    {
      "metadata": {
        "id": "KANV5y1yvFLo",
        "colab_type": "text"
      },
      "cell_type": "markdown",
      "source": [
        "`list` - аналог массивов в других языках\n",
        "\n",
        "Не стоит путать его со структурой данных (где обращение по индексу происходит за O(N)).\n",
        "\n",
        "Списки в Python могут содержать объекты разных типов"
      ]
    },
    {
      "metadata": {
        "id": "96c4YWQIvFLp",
        "colab_type": "code",
        "colab": {},
        "outputId": "883967cb-f42b-411c-ea6e-b5ed4f1b163d"
      },
      "cell_type": "code",
      "source": [
        "print([0, 1, 2, 3, 4, 5, 6, 7, 8, 9])\n",
        "print(list(range(10)))"
      ],
      "execution_count": 0,
      "outputs": [
        {
          "output_type": "stream",
          "text": [
            "[0, 1, 2, 3, 4, 5, 6, 7, 8, 9]\n",
            "[0, 1, 2, 3, 4, 5, 6, 7, 8, 9]\n"
          ],
          "name": "stdout"
        }
      ]
    },
    {
      "metadata": {
        "id": "7XS7dhHtvFLs",
        "colab_type": "code",
        "colab": {},
        "outputId": "8c9c148e-5b43-411d-b61d-7cb95d9af317"
      },
      "cell_type": "code",
      "source": [
        "a = []\n",
        "a.append(1)\n",
        "a += [5, 6]\n",
        "a.remove(5)\n",
        "print(a)"
      ],
      "execution_count": 0,
      "outputs": [
        {
          "output_type": "stream",
          "text": [
            "[1, 6]\n"
          ],
          "name": "stdout"
        }
      ]
    },
    {
      "metadata": {
        "id": "h_YM6TJCvFLv",
        "colab_type": "code",
        "colab": {},
        "outputId": "42b7bd68-7f97-4ee8-f44f-c82f94b60ad0"
      },
      "cell_type": "code",
      "source": [
        "a = [1, 'str', 3, [1, 2, 3], []]\n",
        "\n",
        "a[0] = 4\n",
        "del a[1]\n",
        "a.insert(1, 'test')\n",
        "\n",
        "print(a)"
      ],
      "execution_count": 0,
      "outputs": [
        {
          "output_type": "stream",
          "text": [
            "[4, 'test', 3, [1, 2, 3], []]\n"
          ],
          "name": "stdout"
        }
      ]
    },
    {
      "metadata": {
        "id": "sq8mXWJ_vFLy",
        "colab_type": "text"
      },
      "cell_type": "markdown",
      "source": [
        "Для индексации можно использовать срезы и отрицательные индексы:"
      ]
    },
    {
      "metadata": {
        "id": "X7gZbRjCvFLz",
        "colab_type": "code",
        "colab": {},
        "outputId": "698d47b7-5361-4efd-fa32-28e45d97a479"
      },
      "cell_type": "code",
      "source": [
        "a = list(range(10))\n",
        "print(a)\n",
        "print(a[2:5])   # from 2 to 4\n",
        "print(a[:5])    # begin to 4\n",
        "print(a[:])     # from begin to end\n",
        "print(a[2:8:3]) # every third element from 2 to 7\n",
        "print(a[-1])    # first from the end (last)\n",
        "print(a[-5])    # fifth from the end (last)\n",
        "print(a[::-1])  # reverse list"
      ],
      "execution_count": 0,
      "outputs": [
        {
          "output_type": "stream",
          "text": [
            "[0, 1, 2, 3, 4, 5, 6, 7, 8, 9]\n",
            "[2, 3, 4]\n",
            "[0, 1, 2, 3, 4]\n",
            "[0, 1, 2, 3, 4, 5, 6, 7, 8, 9]\n",
            "[2, 5]\n",
            "9\n",
            "5\n",
            "[9, 8, 7, 6, 5, 4, 3, 2, 1, 0]\n"
          ],
          "name": "stdout"
        }
      ]
    },
    {
      "metadata": {
        "id": "NFdJkB20vFL3",
        "colab_type": "text"
      },
      "cell_type": "markdown",
      "source": [
        "Сортировка"
      ]
    },
    {
      "metadata": {
        "id": "z9QTnN2dvFL4",
        "colab_type": "code",
        "colab": {},
        "outputId": "124e96bf-1949-40f2-8972-7320d607bd4a"
      },
      "cell_type": "code",
      "source": [
        "a = list(range(10, 0, -1))\n",
        "print(a)\n",
        "\n",
        "b = sorted(a)\n",
        "print(a, b)\n",
        "\n",
        "b.sort(reverse=True)\n",
        "print(a, b)"
      ],
      "execution_count": 0,
      "outputs": [
        {
          "output_type": "stream",
          "text": [
            "[10, 9, 8, 7, 6, 5, 4, 3, 2, 1]\n",
            "[10, 9, 8, 7, 6, 5, 4, 3, 2, 1] [1, 2, 3, 4, 5, 6, 7, 8, 9, 10]\n",
            "[10, 9, 8, 7, 6, 5, 4, 3, 2, 1] [10, 9, 8, 7, 6, 5, 4, 3, 2, 1]\n"
          ],
          "name": "stdout"
        }
      ]
    },
    {
      "metadata": {
        "id": "7tbAb00TvFL-",
        "colab_type": "text"
      },
      "cell_type": "markdown",
      "source": [
        "### Кортежи (tuple)\n",
        "\n",
        "`tuple` - immutable"
      ]
    },
    {
      "metadata": {
        "id": "nvyWSbihvFMA",
        "colab_type": "code",
        "colab": {},
        "outputId": "b6b9e674-979f-469d-83d4-6e2130f6777f"
      },
      "cell_type": "code",
      "source": [
        "a = (1, 2, 3)\n",
        "a[1] = 20"
      ],
      "execution_count": 0,
      "outputs": [
        {
          "output_type": "error",
          "ename": "TypeError",
          "evalue": "'tuple' object does not support item assignment",
          "traceback": [
            "\u001b[1;31m---------------------------------------------------------------------------\u001b[0m",
            "\u001b[1;31mTypeError\u001b[0m                                 Traceback (most recent call last)",
            "\u001b[1;32m<ipython-input-25-c6cfd63bf68d>\u001b[0m in \u001b[0;36m<module>\u001b[1;34m()\u001b[0m\n\u001b[0;32m      1\u001b[0m \u001b[0ma\u001b[0m \u001b[1;33m=\u001b[0m \u001b[1;33m(\u001b[0m\u001b[1;36m1\u001b[0m\u001b[1;33m,\u001b[0m \u001b[1;36m2\u001b[0m\u001b[1;33m,\u001b[0m \u001b[1;36m3\u001b[0m\u001b[1;33m)\u001b[0m\u001b[1;33m\u001b[0m\u001b[0m\n\u001b[1;32m----> 2\u001b[1;33m \u001b[0ma\u001b[0m\u001b[1;33m[\u001b[0m\u001b[1;36m1\u001b[0m\u001b[1;33m]\u001b[0m \u001b[1;33m=\u001b[0m \u001b[1;36m20\u001b[0m\u001b[1;33m\u001b[0m\u001b[0m\n\u001b[0m",
            "\u001b[1;31mTypeError\u001b[0m: 'tuple' object does not support item assignment"
          ]
        }
      ]
    },
    {
      "metadata": {
        "id": "AFHdF3whvFME",
        "colab_type": "text"
      },
      "cell_type": "markdown",
      "source": [
        "Извлечение элементов из кортежей (на самом деле, то же самое работает и на списках)"
      ]
    },
    {
      "metadata": {
        "id": "7IXA8AKZvFMF",
        "colab_type": "code",
        "colab": {},
        "outputId": "14e6f04a-0553-43c7-dc8e-fe52699c66f6"
      },
      "cell_type": "code",
      "source": [
        "first = ('first', 42)\n",
        "second = ('second', 7)\n",
        "third = ('third', 1337)\n",
        "data = [first, second, third]\n",
        "print(data)\n",
        "\n",
        "for name, value in data:\n",
        "    print(name + ' is ' + str(value))"
      ],
      "execution_count": 0,
      "outputs": [
        {
          "output_type": "stream",
          "text": [
            "[('first', 42), ('second', 7), ('third', 1337)]\n",
            "first is 42\n",
            "second is 7\n",
            "third is 1337\n"
          ],
          "name": "stdout"
        }
      ]
    },
    {
      "metadata": {
        "id": "g3PtjI3hvFML",
        "colab_type": "text"
      },
      "cell_type": "markdown",
      "source": [
        "### Множества (set)"
      ]
    },
    {
      "metadata": {
        "id": "cD9JZyN7vFML",
        "colab_type": "text"
      },
      "cell_type": "markdown",
      "source": [
        "`set` может содержать в себе только неизменяемые объекты"
      ]
    },
    {
      "metadata": {
        "id": "OWulWoQyvFMM",
        "colab_type": "code",
        "colab": {},
        "outputId": "318cc6dc-4db1-4004-bca5-e58a288dd295"
      },
      "cell_type": "code",
      "source": [
        "print({1, 2, 2, 1, 3})"
      ],
      "execution_count": 0,
      "outputs": [
        {
          "output_type": "stream",
          "text": [
            "{1, 2, 3}\n"
          ],
          "name": "stdout"
        }
      ]
    },
    {
      "metadata": {
        "id": "R8uO7zmWvFMP",
        "colab_type": "code",
        "colab": {},
        "outputId": "e2921ac0-2993-4d2b-da99-284e0f9f94dd"
      },
      "cell_type": "code",
      "source": [
        "print({1, 2, 3, [4, 5]})"
      ],
      "execution_count": 0,
      "outputs": [
        {
          "output_type": "error",
          "ename": "TypeError",
          "evalue": "unhashable type: 'list'",
          "traceback": [
            "\u001b[1;31m---------------------------------------------------------------------------\u001b[0m",
            "\u001b[1;31mTypeError\u001b[0m                                 Traceback (most recent call last)",
            "\u001b[1;32m<ipython-input-28-cbcc8f9f6b74>\u001b[0m in \u001b[0;36m<module>\u001b[1;34m()\u001b[0m\n\u001b[1;32m----> 1\u001b[1;33m \u001b[0mprint\u001b[0m\u001b[1;33m(\u001b[0m\u001b[1;33m{\u001b[0m\u001b[1;36m1\u001b[0m\u001b[1;33m,\u001b[0m \u001b[1;36m2\u001b[0m\u001b[1;33m,\u001b[0m \u001b[1;36m3\u001b[0m\u001b[1;33m,\u001b[0m \u001b[1;33m[\u001b[0m\u001b[1;36m4\u001b[0m\u001b[1;33m,\u001b[0m \u001b[1;36m5\u001b[0m\u001b[1;33m]\u001b[0m\u001b[1;33m}\u001b[0m\u001b[1;33m)\u001b[0m\u001b[1;33m\u001b[0m\u001b[0m\n\u001b[0m",
            "\u001b[1;31mTypeError\u001b[0m: unhashable type: 'list'"
          ]
        }
      ]
    },
    {
      "metadata": {
        "id": "4oMf-RCPvFMS",
        "colab_type": "text"
      },
      "cell_type": "markdown",
      "source": [
        "Операции над множествами"
      ]
    },
    {
      "metadata": {
        "id": "n5TMBR2ivFMT",
        "colab_type": "code",
        "colab": {},
        "outputId": "f526a04b-abf1-4e79-f8eb-11deb845a112"
      },
      "cell_type": "code",
      "source": [
        "a = {1, 2, 3}\n",
        "b = set([2, 3, 4])\n",
        "\n",
        "a.add(5)\n",
        "b.update({5, 6})\n",
        "a, b"
      ],
      "execution_count": 0,
      "outputs": [
        {
          "output_type": "execute_result",
          "data": {
            "text/plain": [
              "({1, 2, 3, 5}, {2, 3, 4, 5, 6})"
            ]
          },
          "metadata": {
            "tags": []
          },
          "execution_count": 29
        }
      ]
    },
    {
      "metadata": {
        "id": "CBwJ4iAavFMW",
        "colab_type": "code",
        "colab": {},
        "outputId": "143b1261-dcbe-4ec4-d3d6-8eba075be90b"
      },
      "cell_type": "code",
      "source": [
        "print (a - b)\n",
        "print (b - a)\n",
        "print (a | b)\n",
        "print (a & b)\n",
        "print (a < b)"
      ],
      "execution_count": 0,
      "outputs": [
        {
          "output_type": "stream",
          "text": [
            "{1}\n",
            "{4, 6}\n",
            "{1, 2, 3, 4, 5, 6}\n",
            "{2, 3, 5}\n",
            "False\n"
          ],
          "name": "stdout"
        }
      ]
    },
    {
      "metadata": {
        "id": "AuqYki8wvFMc",
        "colab_type": "code",
        "colab": {},
        "outputId": "fa005336-5c0b-402d-d2d4-11fa1eb1a88f"
      },
      "cell_type": "code",
      "source": [
        "2 in a  # O(1)"
      ],
      "execution_count": 0,
      "outputs": [
        {
          "output_type": "execute_result",
          "data": {
            "text/plain": [
              "True"
            ]
          },
          "metadata": {
            "tags": []
          },
          "execution_count": 31
        }
      ]
    },
    {
      "metadata": {
        "id": "iXh4T8kUvFMg",
        "colab_type": "text"
      },
      "cell_type": "markdown",
      "source": [
        "### Словари (dict)\n",
        "\n",
        "Аналог unordered_map в C++\n",
        "\n",
        "Ключи должны быть immutable, а вот значения нет"
      ]
    },
    {
      "metadata": {
        "id": "bIIC8gXavFMg",
        "colab_type": "code",
        "colab": {},
        "outputId": "e00ed76e-b0ec-4a13-9d94-4b9d01a27e8f"
      },
      "cell_type": "code",
      "source": [
        "a = {None: 10, 'Key': [1, 2, 3], (-1, 1): 0}\n",
        "a['Key'][1] = 10\n",
        "print(a)"
      ],
      "execution_count": 0,
      "outputs": [
        {
          "output_type": "stream",
          "text": [
            "{None: 10, 'Key': [1, 10, 3], (-1, 1): 0}\n"
          ],
          "name": "stdout"
        }
      ]
    },
    {
      "metadata": {
        "id": "VfyP3xDbvFMj",
        "colab_type": "text"
      },
      "cell_type": "markdown",
      "source": [
        "**!!! WARNING** Пустые фигурные скобки - пустой `dict`, а не `set`"
      ]
    },
    {
      "metadata": {
        "id": "GntsnLt6vFMk",
        "colab_type": "code",
        "colab": {},
        "outputId": "8b61bf86-9e8a-43b5-fe71-92cc53882da5"
      },
      "cell_type": "code",
      "source": [
        "print({} == set())\n",
        "print({} == dict())"
      ],
      "execution_count": 0,
      "outputs": [
        {
          "output_type": "stream",
          "text": [
            "False\n",
            "True\n"
          ],
          "name": "stdout"
        }
      ]
    },
    {
      "metadata": {
        "id": "iT4tzWJrvFMo",
        "colab_type": "text"
      },
      "cell_type": "markdown",
      "source": [
        "Распаковка словарей"
      ]
    },
    {
      "metadata": {
        "id": "24oeqiYMvFMp",
        "colab_type": "code",
        "colab": {},
        "outputId": "8cbe8b66-4440-4c9f-ef0f-c912f7189034"
      },
      "cell_type": "code",
      "source": [
        "settings = {'user' : 'Admin', 'password' : 'qwerty'}\n",
        "\n",
        "'User {user} has password {password}'.format(**settings)"
      ],
      "execution_count": 0,
      "outputs": [
        {
          "output_type": "execute_result",
          "data": {
            "text/plain": [
              "'User Admin has password qwerty'"
            ]
          },
          "metadata": {
            "tags": []
          },
          "execution_count": 34
        }
      ]
    },
    {
      "metadata": {
        "id": "q1nq3k5fvFMt",
        "colab_type": "text"
      },
      "cell_type": "markdown",
      "source": [
        "`defaultdict`"
      ]
    },
    {
      "metadata": {
        "id": "qixlXBsovFMu",
        "colab_type": "code",
        "colab": {},
        "outputId": "111794db-806a-4bb3-9916-5fc5b9b3d225"
      },
      "cell_type": "code",
      "source": [
        "from collections import defaultdict\n",
        "dct = defaultdict(float)\n",
        "\n",
        "dct[2]"
      ],
      "execution_count": 0,
      "outputs": [
        {
          "output_type": "execute_result",
          "data": {
            "text/plain": [
              "0.0"
            ]
          },
          "metadata": {
            "tags": []
          },
          "execution_count": 35
        }
      ]
    },
    {
      "metadata": {
        "id": "4p0XLVepvFMx",
        "colab_type": "text"
      },
      "cell_type": "markdown",
      "source": [
        "`OrderedDict`"
      ]
    },
    {
      "metadata": {
        "id": "z8e68FB2vFMx",
        "colab_type": "code",
        "colab": {},
        "outputId": "5b8cebbe-46a5-4824-d9a3-67a01617ac3e"
      },
      "cell_type": "code",
      "source": [
        "from collections import OrderedDict\n",
        "\n",
        "data = {str(i): i for i in range(5)}\n",
        "\n",
        "print(dict(data))\n",
        "print(OrderedDict(data))"
      ],
      "execution_count": 0,
      "outputs": [
        {
          "output_type": "stream",
          "text": [
            "{'0': 0, '1': 1, '2': 2, '3': 3, '4': 4}\n",
            "OrderedDict([('0', 0), ('1', 1), ('2', 2), ('3', 3), ('4', 4)])\n"
          ],
          "name": "stdout"
        }
      ]
    },
    {
      "metadata": {
        "id": "bNJbEgD4vFM0",
        "colab_type": "text"
      },
      "cell_type": "markdown",
      "source": [
        "### Генераторы"
      ]
    },
    {
      "metadata": {
        "id": "sePaIYA_vFM0",
        "colab_type": "text"
      },
      "cell_type": "markdown",
      "source": [
        "Выше был использован генератор для создания списка\n",
        "\n",
        "Также можно использовать их для создания `dict` и `set`"
      ]
    },
    {
      "metadata": {
        "id": "LAwNZi8_vFM1",
        "colab_type": "code",
        "colab": {},
        "outputId": "1f4b9a59-2432-487f-90a0-209845631377"
      },
      "cell_type": "code",
      "source": [
        "d = {i : i ** 2 for i in range(8)}\n",
        "d"
      ],
      "execution_count": 0,
      "outputs": [
        {
          "output_type": "execute_result",
          "data": {
            "text/plain": [
              "{0: 0, 1: 1, 2: 4, 3: 9, 4: 16, 5: 25, 6: 36, 7: 49}"
            ]
          },
          "metadata": {
            "tags": []
          },
          "execution_count": 37
        }
      ]
    },
    {
      "metadata": {
        "id": "WGfvPGW4vFM5",
        "colab_type": "code",
        "colab": {},
        "outputId": "7275eeba-7beb-4eb3-b734-df4282c9ef1a"
      },
      "cell_type": "code",
      "source": [
        "s = {i for i in range(10) if not i % 3}\n",
        "s"
      ],
      "execution_count": 0,
      "outputs": [
        {
          "output_type": "execute_result",
          "data": {
            "text/plain": [
              "{0, 3, 6, 9}"
            ]
          },
          "metadata": {
            "tags": []
          },
          "execution_count": 38
        }
      ]
    },
    {
      "metadata": {
        "id": "lCj9nr4QvFM7",
        "colab_type": "text"
      },
      "cell_type": "markdown",
      "source": [
        "### Хэширование"
      ]
    },
    {
      "metadata": {
        "id": "bF-Ix9kBvFM8",
        "colab_type": "text"
      },
      "cell_type": "markdown",
      "source": [
        "От каждого immutable объекта можно взять встроенную хэш-функцию"
      ]
    },
    {
      "metadata": {
        "id": "mB33OWgevFM8",
        "colab_type": "code",
        "colab": {},
        "outputId": "e40ceb38-41f2-4b9f-aab1-72161518f63d"
      },
      "cell_type": "code",
      "source": [
        "print(hash(1234))\n",
        "print(hash(-12.34))\n",
        "print(hash('smth'))\n",
        "print(hash(('smth', 42)))"
      ],
      "execution_count": 0,
      "outputs": [
        {
          "output_type": "stream",
          "text": [
            "1234\n",
            "-783986623132655628\n",
            "-7276383897986808262\n",
            "-3819781957298470857\n"
          ],
          "name": "stdout"
        }
      ]
    },
    {
      "metadata": {
        "id": "Z-e2wTzNvFM_",
        "colab_type": "text"
      },
      "cell_type": "markdown",
      "source": [
        "`list` - mutable, поэтому для него нельзя посчитать хэш"
      ]
    },
    {
      "metadata": {
        "id": "xomSk6dVvFM_",
        "colab_type": "code",
        "colab": {},
        "outputId": "80fabcfb-94e4-4ac5-cea9-d5c1f7b2dcfe"
      },
      "cell_type": "code",
      "source": [
        "hash(['smth', 42])"
      ],
      "execution_count": 0,
      "outputs": [
        {
          "output_type": "error",
          "ename": "TypeError",
          "evalue": "unhashable type: 'list'",
          "traceback": [
            "\u001b[1;31m---------------------------------------------------------------------------\u001b[0m",
            "\u001b[1;31mTypeError\u001b[0m                                 Traceback (most recent call last)",
            "\u001b[1;32m<ipython-input-40-7393059bd620>\u001b[0m in \u001b[0;36m<module>\u001b[1;34m()\u001b[0m\n\u001b[1;32m----> 1\u001b[1;33m \u001b[0mhash\u001b[0m\u001b[1;33m(\u001b[0m\u001b[1;33m[\u001b[0m\u001b[1;34m'smth'\u001b[0m\u001b[1;33m,\u001b[0m \u001b[1;36m42\u001b[0m\u001b[1;33m]\u001b[0m\u001b[1;33m)\u001b[0m\u001b[1;33m\u001b[0m\u001b[0m\n\u001b[0m",
            "\u001b[1;31mTypeError\u001b[0m: unhashable type: 'list'"
          ]
        }
      ]
    },
    {
      "metadata": {
        "id": "NQYsFClAvFNB",
        "colab_type": "text"
      },
      "cell_type": "markdown",
      "source": [
        "### Ввод и вывод"
      ]
    },
    {
      "metadata": {
        "id": "KxBkW4mavFND",
        "colab_type": "code",
        "colab": {}
      },
      "cell_type": "code",
      "source": [
        "a = input()\n",
        "b = input()\n",
        "print(int(a) * int(b))"
      ],
      "execution_count": 0,
      "outputs": []
    },
    {
      "metadata": {
        "id": "F4YWvXG8vFNE",
        "colab_type": "text"
      },
      "cell_type": "markdown",
      "source": [
        "Работа с stdin, stderr, stdout"
      ]
    },
    {
      "metadata": {
        "id": "tV74B8SkvFNF",
        "colab_type": "code",
        "colab": {}
      },
      "cell_type": "code",
      "source": [
        "import sys\n",
        "\n",
        "total = 0.0\n",
        "for line in sys.stdin:\n",
        "    if line.isdigit():\n",
        "        total += int(line)\n",
        "        sys.stdout.write('Total so far {}'.format(total))\n",
        "    else:\n",
        "        sys.stderr.write('{} is not a digit'.format(line))"
      ],
      "execution_count": 0,
      "outputs": []
    },
    {
      "metadata": {
        "id": "PfNNWGtpvFNH",
        "colab_type": "text"
      },
      "cell_type": "markdown",
      "source": [
        "Считывание данных из файла с данными"
      ]
    },
    {
      "metadata": {
        "id": "VmtfURxZvFNI",
        "colab_type": "code",
        "colab": {}
      },
      "cell_type": "code",
      "source": [
        "f = open('file.txt', 'r', encoding='utf8')\n",
        "lines = f.readlines()\n",
        "f.close()"
      ],
      "execution_count": 0,
      "outputs": []
    },
    {
      "metadata": {
        "id": "hzynYOeKvFNJ",
        "colab_type": "text"
      },
      "cell_type": "markdown",
      "source": [
        "При работе с файлами и другими ресурсами лучше всего использовать context manager"
      ]
    },
    {
      "metadata": {
        "id": "Z50FHtS9vFNK",
        "colab_type": "code",
        "colab": {}
      },
      "cell_type": "code",
      "source": [
        "with open('file.txt') as f:\n",
        "    print(f.read())"
      ],
      "execution_count": 0,
      "outputs": []
    },
    {
      "metadata": {
        "id": "FK8kVBadvFNM",
        "colab_type": "text"
      },
      "cell_type": "markdown",
      "source": [
        "### Функции и память"
      ]
    },
    {
      "metadata": {
        "id": "7jGYN6WHvFNN",
        "colab_type": "text"
      },
      "cell_type": "markdown",
      "source": [
        "В Python имя каждого объекта - ссылка на соответствующую область памяти. При присваивании сложных объектов (например, списков) происходит копирование ссылки, а не содержимого объекта."
      ]
    },
    {
      "metadata": {
        "id": "9dr0gy7VvFNN",
        "colab_type": "code",
        "colab": {},
        "outputId": "79f90217-d05c-4243-a95c-107596b3af27"
      },
      "cell_type": "code",
      "source": [
        "a = [1, 2, 3]\n",
        "b = a\n",
        "b[1] = 100\n",
        "print(a, b)\n",
        "\n",
        "b = [1, 2, 3]\n",
        "print(a, b)"
      ],
      "execution_count": 0,
      "outputs": [
        {
          "output_type": "stream",
          "text": [
            "[1, 100, 3] [1, 100, 3]\n",
            "[1, 100, 3] [1, 2, 3]\n"
          ],
          "name": "stdout"
        }
      ]
    },
    {
      "metadata": {
        "id": "bZb9rlcUvFNR",
        "colab_type": "text"
      },
      "cell_type": "markdown",
      "source": [
        "Функции и лямбды"
      ]
    },
    {
      "metadata": {
        "id": "Xdb0Mp3yvFNS",
        "colab_type": "code",
        "colab": {},
        "outputId": "bd0e5fa2-57c4-470b-d0cd-7f2cf7473f61"
      },
      "cell_type": "code",
      "source": [
        "def get_degrees(n):\n",
        "    return n ** 2, n ** 3\n",
        "\n",
        "print(get_degrees(12))\n",
        "print((lambda n: (n ** 2, n ** 3))(12))"
      ],
      "execution_count": 0,
      "outputs": [
        {
          "output_type": "stream",
          "text": [
            "(144, 1728)\n",
            "(144, 1728)\n"
          ],
          "name": "stdout"
        }
      ]
    },
    {
      "metadata": {
        "id": "dSHuejltvFNV",
        "colab_type": "text"
      },
      "cell_type": "markdown",
      "source": [
        "Также можно, не помня порядок параметров у функции, использовать при вызове их названия"
      ]
    },
    {
      "metadata": {
        "id": "VLJsDTcwvFNW",
        "colab_type": "code",
        "colab": {},
        "outputId": "34c8f874-51ea-4c9b-8571-0a854053a90b"
      },
      "cell_type": "code",
      "source": [
        "def my_func(param1, param2='ML', param3=10):\n",
        "    print(param1, param2, param3)\n",
        "\n",
        "my_func(param2='Data Mining', param1=[0, 0])"
      ],
      "execution_count": 0,
      "outputs": [
        {
          "output_type": "stream",
          "text": [
            "[0, 0] Data Mining 10\n"
          ],
          "name": "stdout"
        }
      ]
    },
    {
      "metadata": {
        "id": "rMZssgKTvFNa",
        "colab_type": "code",
        "colab": {},
        "outputId": "15724a6f-31b3-4b8b-d0fb-370794ce5198"
      },
      "cell_type": "code",
      "source": [
        "def my_func_2(param1, *, param2='ML', param3=10):\n",
        "    print(param1, param2, param3)\n",
        "\n",
        "my_func_2([0, 0], 'Data Mining')"
      ],
      "execution_count": 0,
      "outputs": [
        {
          "output_type": "error",
          "ename": "TypeError",
          "evalue": "my_func_2() takes 1 positional argument but 2 were given",
          "traceback": [
            "\u001b[1;31m---------------------------------------------------------------------------\u001b[0m",
            "\u001b[1;31mTypeError\u001b[0m                                 Traceback (most recent call last)",
            "\u001b[1;32m<ipython-input-44-30284d83436a>\u001b[0m in \u001b[0;36m<module>\u001b[1;34m()\u001b[0m\n\u001b[0;32m      2\u001b[0m     \u001b[0mprint\u001b[0m\u001b[1;33m(\u001b[0m\u001b[0mparam1\u001b[0m\u001b[1;33m,\u001b[0m \u001b[0mparam2\u001b[0m\u001b[1;33m,\u001b[0m \u001b[0mparam3\u001b[0m\u001b[1;33m)\u001b[0m\u001b[1;33m\u001b[0m\u001b[0m\n\u001b[0;32m      3\u001b[0m \u001b[1;33m\u001b[0m\u001b[0m\n\u001b[1;32m----> 4\u001b[1;33m \u001b[0mmy_func_2\u001b[0m\u001b[1;33m(\u001b[0m\u001b[1;33m[\u001b[0m\u001b[1;36m0\u001b[0m\u001b[1;33m,\u001b[0m \u001b[1;36m0\u001b[0m\u001b[1;33m]\u001b[0m\u001b[1;33m,\u001b[0m \u001b[1;34m'Data Mining'\u001b[0m\u001b[1;33m)\u001b[0m\u001b[1;33m\u001b[0m\u001b[0m\n\u001b[0m",
            "\u001b[1;31mTypeError\u001b[0m: my_func_2() takes 1 positional argument but 2 were given"
          ]
        }
      ]
    },
    {
      "metadata": {
        "id": "ips6JgrUvFNe",
        "colab_type": "text"
      },
      "cell_type": "markdown",
      "source": [
        "### Классы"
      ]
    },
    {
      "metadata": {
        "id": "bbeayiIQvFNe",
        "colab_type": "code",
        "colab": {},
        "outputId": "ed0b6e48-aa83-4218-dbab-2aa1e61be93d"
      },
      "cell_type": "code",
      "source": [
        "class MyClass:\n",
        "    def __init__(self, param):\n",
        "        self.field = param\n",
        "\n",
        "    def get_squared_param(self):\n",
        "        return self.field ** 2\n",
        "\n",
        "a = MyClass(10)\n",
        "print(a)\n",
        "print(a.field)\n",
        "print(a.get_squared_param())"
      ],
      "execution_count": 0,
      "outputs": [
        {
          "output_type": "stream",
          "text": [
            "<__main__.MyClass object at 0x0000020715C455F8>\n",
            "10\n",
            "100\n"
          ],
          "name": "stdout"
        }
      ]
    },
    {
      "metadata": {
        "id": "dPFyxpvyvFNh",
        "colab_type": "text"
      },
      "cell_type": "markdown",
      "source": [
        "- Служебные методы принято называть с двумя подчеркиваниями в начале и конце. Так, например, `__init__` — конструктор (на самом деле, не совсем привычный по C++ конструктор)\n",
        "- Первый параметр каждого метода — сам объект, для которого вызывает метод. Принято называть этот параметр `self`"
      ]
    },
    {
      "metadata": {
        "id": "6niJK6gVvFNi",
        "colab_type": "text"
      },
      "cell_type": "markdown",
      "source": [
        "**_ и __ в именах**\n",
        "\n",
        "- \\_single_leading_underscore\n",
        "\n",
        "weak \"internal use\" indicator. E.g. `from M import *` does not import objects whose name starts with an underscore.\n",
        "\n",
        "- single_trailing_underscore_\n",
        "\n",
        "used by convention to avoid conflicts with Python keyword, e.g. `Tkinter.Toplevel(master, class_='ClassName')`\n",
        "\n",
        "- \\_\\_double_leading_underscore\n",
        "\n",
        "when naming a class attribute, invokes name mangling: inside class FooBar, `__boo` becomes `_FooBar__boo`\n",
        "\n",
        "- \\_\\_double_leading_and_trailing_underscore\\_\\_\n",
        "\n",
        "\"magic\" objects or attributes that live in user-controlled namespaces. E.g. `__init__`,  `__import__` or `__file__`. Never invent such names; only use them as documented."
      ]
    },
    {
      "metadata": {
        "id": "mhpWEUjcvFNi",
        "colab_type": "code",
        "colab": {},
        "outputId": "c737375c-54df-4733-8329-61c0f244d248"
      },
      "cell_type": "code",
      "source": [
        "class MyClass:\n",
        "    def __init__(self):\n",
        "        self._internal_param = 6\n",
        "        self.__mangled_param = 2\n",
        "\n",
        "obj = MyClass()\n",
        "\n",
        "print(obj._internal_param)\n",
        "print(obj.__mangled_param)"
      ],
      "execution_count": 0,
      "outputs": [
        {
          "output_type": "stream",
          "text": [
            "6\n"
          ],
          "name": "stdout"
        },
        {
          "output_type": "error",
          "ename": "AttributeError",
          "evalue": "'MyClass' object has no attribute '__mangled_param'",
          "traceback": [
            "\u001b[1;31m---------------------------------------------------------------------------\u001b[0m",
            "\u001b[1;31mAttributeError\u001b[0m                            Traceback (most recent call last)",
            "\u001b[1;32m<ipython-input-46-98b2bb4eb28f>\u001b[0m in \u001b[0;36m<module>\u001b[1;34m()\u001b[0m\n\u001b[0;32m      7\u001b[0m \u001b[1;33m\u001b[0m\u001b[0m\n\u001b[0;32m      8\u001b[0m \u001b[0mprint\u001b[0m\u001b[1;33m(\u001b[0m\u001b[0mobj\u001b[0m\u001b[1;33m.\u001b[0m\u001b[0m_internal_param\u001b[0m\u001b[1;33m)\u001b[0m\u001b[1;33m\u001b[0m\u001b[0m\n\u001b[1;32m----> 9\u001b[1;33m \u001b[0mprint\u001b[0m\u001b[1;33m(\u001b[0m\u001b[0mobj\u001b[0m\u001b[1;33m.\u001b[0m\u001b[0m__mangled_param\u001b[0m\u001b[1;33m)\u001b[0m\u001b[1;33m\u001b[0m\u001b[0m\n\u001b[0m",
            "\u001b[1;31mAttributeError\u001b[0m: 'MyClass' object has no attribute '__mangled_param'"
          ]
        }
      ]
    },
    {
      "metadata": {
        "id": "V40xA7kYvFNl",
        "colab_type": "text"
      },
      "cell_type": "markdown",
      "source": [
        "### Внутренние переменные"
      ]
    },
    {
      "metadata": {
        "id": "HfCfpi5KvFNm",
        "colab_type": "code",
        "colab": {},
        "outputId": "dfa72a89-9366-4999-da5f-902cc53c2c28"
      },
      "cell_type": "code",
      "source": [
        "class MyClass:\n",
        "    pass\n",
        "\n",
        "print(MyClass.__name__)\n",
        "print(MyClass.__doc__)\n",
        "print(MyClass.__module__)"
      ],
      "execution_count": 0,
      "outputs": [
        {
          "output_type": "stream",
          "text": [
            "MyClass\n",
            "None\n",
            "__main__\n"
          ],
          "name": "stdout"
        }
      ]
    },
    {
      "metadata": {
        "id": "4uB4cXLdvFNs",
        "colab_type": "code",
        "colab": {},
        "outputId": "36e8eb3b-e918-4ce3-f877-420a90489755"
      },
      "cell_type": "code",
      "source": [
        "MyClass.__dict__"
      ],
      "execution_count": 0,
      "outputs": [
        {
          "output_type": "execute_result",
          "data": {
            "text/plain": [
              "mappingproxy({'__module__': '__main__',\n",
              "              '__dict__': <attribute '__dict__' of 'MyClass' objects>,\n",
              "              '__weakref__': <attribute '__weakref__' of 'MyClass' objects>,\n",
              "              '__doc__': None})"
            ]
          },
          "metadata": {
            "tags": []
          },
          "execution_count": 48
        }
      ]
    },
    {
      "metadata": {
        "id": "bTMtOaohvFNv",
        "colab_type": "text"
      },
      "cell_type": "markdown",
      "source": [
        "Работа с полями объекта - работа с его `__dict__`"
      ]
    },
    {
      "metadata": {
        "id": "p156sGEDvFNx",
        "colab_type": "code",
        "colab": {},
        "outputId": "1b83f49c-2009-48e9-8dd7-6831933afde9"
      },
      "cell_type": "code",
      "source": [
        "class TestDict:\n",
        "    classvar = 24\n",
        "    def __init__(self):\n",
        "        self.objectvar = 42\n",
        "\n",
        "t = TestDict()\n",
        "print('class dict:', TestDict.__dict__)\n",
        "print('classvar:', TestDict.__dict__['classvar'])\n",
        "print('obj dict:', t.__dict__)"
      ],
      "execution_count": 0,
      "outputs": [
        {
          "output_type": "stream",
          "text": [
            "class dict: {'__module__': '__main__', 'classvar': 24, '__init__': <function TestDict.__init__ at 0x0000020715C2A7B8>, '__dict__': <attribute '__dict__' of 'TestDict' objects>, '__weakref__': <attribute '__weakref__' of 'TestDict' objects>, '__doc__': None}\n",
            "classvar: 24\n",
            "obj dict: {'objectvar': 42}\n"
          ],
          "name": "stdout"
        }
      ]
    },
    {
      "metadata": {
        "id": "1O8oZFhOvFN0",
        "colab_type": "code",
        "colab": {},
        "outputId": "7f5e3bd1-8a4e-452e-9fad-884f3ee5f593"
      },
      "cell_type": "code",
      "source": [
        "MyClass.__class__"
      ],
      "execution_count": 0,
      "outputs": [
        {
          "output_type": "execute_result",
          "data": {
            "text/plain": [
              "type"
            ]
          },
          "metadata": {
            "tags": []
          },
          "execution_count": 50
        }
      ]
    },
    {
      "metadata": {
        "id": "qW8yvuAvvFN2",
        "colab_type": "text"
      },
      "cell_type": "markdown",
      "source": [
        "`__slots__` фиксируют возможные поля в классе (используется редко)"
      ]
    },
    {
      "metadata": {
        "id": "Hn1ZzI3QvFN3",
        "colab_type": "code",
        "colab": {},
        "outputId": "b035e1c1-959b-4ac5-d222-4b8dde53510c"
      },
      "cell_type": "code",
      "source": [
        "class TestSlots:\n",
        "    __slots__ = ['a', 'b']\n",
        "    def __init__(self):\n",
        "        self.a = 1\n",
        "        self.c = 42\n",
        "\n",
        "t = TestSlots()"
      ],
      "execution_count": 0,
      "outputs": [
        {
          "output_type": "error",
          "ename": "AttributeError",
          "evalue": "'TestSlots' object has no attribute 'c'",
          "traceback": [
            "\u001b[1;31m---------------------------------------------------------------------------\u001b[0m",
            "\u001b[1;31mAttributeError\u001b[0m                            Traceback (most recent call last)",
            "\u001b[1;32m<ipython-input-51-2bc37cb7d5c1>\u001b[0m in \u001b[0;36m<module>\u001b[1;34m()\u001b[0m\n\u001b[0;32m      5\u001b[0m         \u001b[0mself\u001b[0m\u001b[1;33m.\u001b[0m\u001b[0mc\u001b[0m \u001b[1;33m=\u001b[0m \u001b[1;36m42\u001b[0m\u001b[1;33m\u001b[0m\u001b[0m\n\u001b[0;32m      6\u001b[0m \u001b[1;33m\u001b[0m\u001b[0m\n\u001b[1;32m----> 7\u001b[1;33m \u001b[0mt\u001b[0m \u001b[1;33m=\u001b[0m \u001b[0mTestSlots\u001b[0m\u001b[1;33m(\u001b[0m\u001b[1;33m)\u001b[0m\u001b[1;33m\u001b[0m\u001b[0m\n\u001b[0m",
            "\u001b[1;32m<ipython-input-51-2bc37cb7d5c1>\u001b[0m in \u001b[0;36m__init__\u001b[1;34m(self)\u001b[0m\n\u001b[0;32m      3\u001b[0m     \u001b[1;32mdef\u001b[0m \u001b[0m__init__\u001b[0m\u001b[1;33m(\u001b[0m\u001b[0mself\u001b[0m\u001b[1;33m)\u001b[0m\u001b[1;33m:\u001b[0m\u001b[1;33m\u001b[0m\u001b[0m\n\u001b[0;32m      4\u001b[0m         \u001b[0mself\u001b[0m\u001b[1;33m.\u001b[0m\u001b[0ma\u001b[0m \u001b[1;33m=\u001b[0m \u001b[1;36m1\u001b[0m\u001b[1;33m\u001b[0m\u001b[0m\n\u001b[1;32m----> 5\u001b[1;33m         \u001b[0mself\u001b[0m\u001b[1;33m.\u001b[0m\u001b[0mc\u001b[0m \u001b[1;33m=\u001b[0m \u001b[1;36m42\u001b[0m\u001b[1;33m\u001b[0m\u001b[0m\n\u001b[0m\u001b[0;32m      6\u001b[0m \u001b[1;33m\u001b[0m\u001b[0m\n\u001b[0;32m      7\u001b[0m \u001b[0mt\u001b[0m \u001b[1;33m=\u001b[0m \u001b[0mTestSlots\u001b[0m\u001b[1;33m(\u001b[0m\u001b[1;33m)\u001b[0m\u001b[1;33m\u001b[0m\u001b[0m\n",
            "\u001b[1;31mAttributeError\u001b[0m: 'TestSlots' object has no attribute 'c'"
          ]
        }
      ]
    },
    {
      "metadata": {
        "id": "jX77h2bJvFN4",
        "colab_type": "text"
      },
      "cell_type": "markdown",
      "source": [
        "### Наследование\n",
        "\n",
        "- У класса может быть один или несколько предков (по умолчанию все классы унаследованы от `object`)\n",
        "- При обращении к полям и методам обьекта Python пытается найти в самом объекте (в его `__dict__`), потом в его классе, потом в его предках в порядке называемом MRO (Method resolution order) (описание алгоритма https://en.wikipedia.org/wiki/C3_linearization)\n",
        "- Посмотреть MRO обьекта можно позвав метод `.mro()`"
      ]
    },
    {
      "metadata": {
        "id": "7ITUzDM4vFN5",
        "colab_type": "code",
        "colab": {},
        "outputId": "71d5c989-05eb-43ca-b655-e29d0a66dc14"
      },
      "cell_type": "code",
      "source": [
        "class A:\n",
        "    pass\n",
        "\n",
        "A.mro()"
      ],
      "execution_count": 0,
      "outputs": [
        {
          "output_type": "execute_result",
          "data": {
            "text/plain": [
              "[__main__.A, object]"
            ]
          },
          "metadata": {
            "tags": []
          },
          "execution_count": 52
        }
      ]
    },
    {
      "metadata": {
        "id": "G9iZa3o4vFN7",
        "colab_type": "code",
        "colab": {},
        "outputId": "13fb83e0-db28-45f0-fec2-47ac82fb367d"
      },
      "cell_type": "code",
      "source": [
        "class Animal:\n",
        "    def __init__(self):\n",
        "        print('Animal::Init')\n",
        "        self.legs = 0\n",
        "\n",
        "        \n",
        "class Mammal(Animal):\n",
        "    def __init__(self):\n",
        "        print('Mammal::Init')\n",
        "        super().__init__()\n",
        "        self.legs = 4\n",
        "\n",
        "        \n",
        "class Swimming(Animal):\n",
        "    def __init__(self):\n",
        "        print('Swimming::Init')\n",
        "        super().__init__()\n",
        "        self.can_swim = True\n",
        "\n",
        "        \n",
        "class Platypus(Mammal, Swimming):\n",
        "    def __init__(self):\n",
        "        print('Platypus::Init')\n",
        "        super().__init__()\n",
        "        \n",
        "        \n",
        "Joe = Platypus()"
      ],
      "execution_count": 0,
      "outputs": [
        {
          "output_type": "stream",
          "text": [
            "Platypus::Init\n",
            "Mammal::Init\n",
            "Swimming::Init\n",
            "Animal::Init\n"
          ],
          "name": "stdout"
        }
      ]
    },
    {
      "metadata": {
        "id": "BSJK9RSkvFN9",
        "colab_type": "code",
        "colab": {}
      },
      "cell_type": "code",
      "source": [
        ""
      ],
      "execution_count": 0,
      "outputs": []
    }
  ]
}